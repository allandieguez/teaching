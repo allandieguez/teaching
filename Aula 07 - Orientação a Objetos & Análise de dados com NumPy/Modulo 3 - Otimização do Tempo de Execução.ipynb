{
 "cells": [
  {
   "cell_type": "markdown",
   "metadata": {},
   "source": [
    "# Modulo 3: Otimização do Tempo de Execução"
   ]
  },
  {
   "cell_type": "markdown",
   "metadata": {},
   "source": [
    "___"
   ]
  },
  {
   "cell_type": "markdown",
   "metadata": {},
   "source": [
    "# Imports  Para a Aula"
   ]
  },
  {
   "cell_type": "code",
   "execution_count": null,
   "metadata": {
    "collapsed": true
   },
   "outputs": [],
   "source": [
    "import numpy as np"
   ]
  },
  {
   "cell_type": "code",
   "execution_count": null,
   "metadata": {
    "collapsed": true
   },
   "outputs": [],
   "source": [
    "from sklearn.datasets import load_iris\n",
    "from sklearn.tree import DecisionTreeClassifier"
   ]
  },
  {
   "cell_type": "code",
   "execution_count": null,
   "metadata": {
    "collapsed": true
   },
   "outputs": [],
   "source": [
    "from tree import BinaryTree, extract_tree_from_model, print_tree"
   ]
  },
  {
   "cell_type": "markdown",
   "metadata": {},
   "source": [
    "___"
   ]
  },
  {
   "cell_type": "markdown",
   "metadata": {},
   "source": [
    "# Tutorial"
   ]
  },
  {
   "cell_type": "markdown",
   "metadata": {},
   "source": [
    "## Motivação: Contagem Simples"
   ]
  },
  {
   "cell_type": "markdown",
   "metadata": {},
   "source": [
    "### Criando dados aleatórios"
   ]
  },
  {
   "cell_type": "code",
   "execution_count": null,
   "metadata": {},
   "outputs": [],
   "source": [
    "np.random.seed(123456789)\n",
    "X = np.random.randint(10, 35, int(1e7))\n",
    "X.shape, X[:10]"
   ]
  },
  {
   "cell_type": "markdown",
   "metadata": {},
   "source": [
    "### Função \"Mágica\" _%time_"
   ]
  },
  {
   "cell_type": "code",
   "execution_count": null,
   "metadata": {},
   "outputs": [],
   "source": [
    "%%time\n",
    "count1 = 0\n",
    "for x in X:\n",
    "    if x > 20:\n",
    "        count1 += 1"
   ]
  },
  {
   "cell_type": "code",
   "execution_count": null,
   "metadata": {},
   "outputs": [],
   "source": [
    "%%time\n",
    "count2 = (X > 20).sum()"
   ]
  },
  {
   "cell_type": "code",
   "execution_count": null,
   "metadata": {
    "collapsed": true
   },
   "outputs": [],
   "source": [
    "assert count1 == count2"
   ]
  },
  {
   "cell_type": "markdown",
   "metadata": {},
   "source": [
    "### Função \"Mágica\" _%timeit_"
   ]
  },
  {
   "cell_type": "code",
   "execution_count": null,
   "metadata": {},
   "outputs": [],
   "source": [
    "%%timeit\n",
    "count1 = 0\n",
    "for x in X:\n",
    "    if x > 20:\n",
    "        count1 += 1"
   ]
  },
  {
   "cell_type": "code",
   "execution_count": null,
   "metadata": {},
   "outputs": [],
   "source": [
    "%%timeit\n",
    "count2 = (X > 20).sum()"
   ]
  },
  {
   "cell_type": "code",
   "execution_count": null,
   "metadata": {},
   "outputs": [],
   "source": [
    "assert count1 == count2"
   ]
  },
  {
   "cell_type": "markdown",
   "metadata": {},
   "source": [
    "## Motivação: Transformação Linear"
   ]
  },
  {
   "cell_type": "markdown",
   "metadata": {},
   "source": [
    "### Funções Auxiliares"
   ]
  },
  {
   "cell_type": "code",
   "execution_count": null,
   "metadata": {
    "collapsed": true
   },
   "outputs": [],
   "source": [
    "def matrix_dot_product(m1, m2):    \n",
    "    assert (m1.shape[1] == m2.shape[0])\n",
    "    P, Q = m1.shape\n",
    "    Q, R = m2.shape\n",
    "    ans = np.zeros((P, R))\n",
    "    for p in range(P):\n",
    "        for r in range(R):\n",
    "            for q in range(Q):\n",
    "                ans[p, r] += m1[p, q] * m2[q, r]\n",
    "    return ans"
   ]
  },
  {
   "cell_type": "code",
   "execution_count": null,
   "metadata": {
    "collapsed": true
   },
   "outputs": [],
   "source": [
    "def matrix_add(m1, m2):\n",
    "    assert (m1.shape == m2.shape)\n",
    "    P, Q = m1.shape\n",
    "    ans = np.zeros((P, Q))\n",
    "    for p in range(P):\n",
    "        for q in range(Q):\n",
    "            ans[p, q] += m1[p, q] + m2[p, q]\n",
    "    return ans"
   ]
  },
  {
   "cell_type": "markdown",
   "metadata": {},
   "source": [
    "### Criando dados aleatórios"
   ]
  },
  {
   "cell_type": "code",
   "execution_count": null,
   "metadata": {},
   "outputs": [],
   "source": [
    "np.random.seed(123456789)\n",
    "P = 500\n",
    "Q = 50\n",
    "R = 1\n",
    "A = np.random.randint(-10, 35, (P, Q))\n",
    "X = np.random.randn(Q, R) * 10 + 3\n",
    "B = np.random.randn(P, R) * 3 + 10\n",
    "A.shape, X.shape, B.shape"
   ]
  },
  {
   "cell_type": "markdown",
   "metadata": {},
   "source": [
    "### Função \"Mágica\" _%time_"
   ]
  },
  {
   "cell_type": "code",
   "execution_count": null,
   "metadata": {},
   "outputs": [],
   "source": [
    "%%time\n",
    "Y1 = matrix_add(matrix_dot_product(A, X), B)"
   ]
  },
  {
   "cell_type": "code",
   "execution_count": null,
   "metadata": {},
   "outputs": [],
   "source": [
    "%%time\n",
    "Y2 = np.add(np.dot(A, X), B)"
   ]
  },
  {
   "cell_type": "code",
   "execution_count": null,
   "metadata": {},
   "outputs": [],
   "source": [
    "assert sum((Y1 - Y2) ** 2) ** .5 < 1e-10"
   ]
  },
  {
   "cell_type": "markdown",
   "metadata": {},
   "source": [
    "### Função \"Mágica\" _%timeit_"
   ]
  },
  {
   "cell_type": "code",
   "execution_count": null,
   "metadata": {},
   "outputs": [],
   "source": [
    "%%timeit\n",
    "Y1 = matrix_add(matrix_dot_product(A, X), B)"
   ]
  },
  {
   "cell_type": "code",
   "execution_count": null,
   "metadata": {},
   "outputs": [],
   "source": [
    "%%timeit\n",
    "Y2 = np.add(np.dot(A, X), B)"
   ]
  },
  {
   "cell_type": "code",
   "execution_count": null,
   "metadata": {
    "collapsed": true
   },
   "outputs": [],
   "source": [
    "assert sum((Y1 - Y2) ** 2) ** .5 < 1e-10"
   ]
  },
  {
   "cell_type": "markdown",
   "metadata": {},
   "source": [
    "___"
   ]
  },
  {
   "cell_type": "markdown",
   "metadata": {},
   "source": [
    "# Desafio"
   ]
  },
  {
   "cell_type": "markdown",
   "metadata": {},
   "source": [
    "## Objetivo:\n",
    "\n",
    "Construir uma classe de Árvore de Decisão derivada de uma classe de Árvore Binária, disponibilizada aos alunos no arquivo ``train.py`` deste módulo. \n",
    "\n",
    "Não é necessário implementar o **treinamento** (ou métoro **fit**) da Árvode de Decisão; tampouco o método **predict_proba**. Todos os parâmetros da Árvore de Decisão serão extraídos de um modelo de `DecisionTreeClassifier` treinado com o dataset `Iris`.\n",
    "\n",
    "Essa classe deve extender a classe disponibilizada `BinaryTree`. Cada instância dessa classe representa **apenas um nó** de uma árvore binária; este nó está conectado aos outros nós através dos seguintes atributos:\n",
    "- `parent`\n",
    "- `left_child`\n",
    "- `right_child`\n",
    "\n",
    "A classe `BinaryTree` não possui um método `predict`; este deve ser implementado para funcionar da seguinte forma:\n",
    "1. Se for um **nó folha**, retorna a predição para o **nó pai**;\n",
    "2. Se for um **nó de decisão**, deve processar a entrada `X` e chamar o método `predict` do próximo nó filho.\n",
    "\n",
    "O método `predict` deve receber um array `X` contendo uma massa de dados sobre os quais serão feitas as predições, que serão retornadas no array `y_pred`."
   ]
  },
  {
   "cell_type": "markdown",
   "metadata": {},
   "source": [
    "## Árvore de Decisão"
   ]
  },
  {
   "cell_type": "markdown",
   "metadata": {},
   "source": [
    "### Treinando uma Árvore de Decisão para o Problema de Classificação Iris\n",
    "\n",
    "Referências:\n",
    "- [Problema de Classificação: Iris](https://en.wikipedia.org/wiki/Iris_flower_data_set)\n",
    "- [Árvore de Decisão para Classificação](http://scikit-learn.org/stable/modules/generated/sklearn.tree.DecisionTreeClassifier.html)"
   ]
  },
  {
   "cell_type": "code",
   "execution_count": null,
   "metadata": {
    "collapsed": true
   },
   "outputs": [],
   "source": [
    "iris = load_iris()"
   ]
  },
  {
   "cell_type": "code",
   "execution_count": null,
   "metadata": {
    "collapsed": true
   },
   "outputs": [],
   "source": [
    "model = DecisionTreeClassifier(max_depth=3, random_state=123456789)"
   ]
  },
  {
   "cell_type": "code",
   "execution_count": null,
   "metadata": {},
   "outputs": [],
   "source": [
    "model.fit(X=iris['data'], y=iris['target'])"
   ]
  },
  {
   "cell_type": "markdown",
   "metadata": {},
   "source": [
    "### Testando a Predição da Árvore de Decisão Treinada"
   ]
  },
  {
   "cell_type": "code",
   "execution_count": null,
   "metadata": {
    "collapsed": true
   },
   "outputs": [],
   "source": [
    "\"\"\" predições \"\"\"\n",
    "y_pred = model.predict(iris['data'])"
   ]
  },
  {
   "cell_type": "code",
   "execution_count": null,
   "metadata": {
    "collapsed": true
   },
   "outputs": [],
   "source": [
    "\"\"\" targets / tabela verdade \"\"\"\n",
    "y_true = iris['target']"
   ]
  },
  {
   "cell_type": "code",
   "execution_count": null,
   "metadata": {},
   "outputs": [],
   "source": [
    "\"\"\" Acurácia do Modelo \"\"\"\n",
    "(y_pred == y_true).mean()"
   ]
  },
  {
   "cell_type": "markdown",
   "metadata": {},
   "source": [
    "### Parâmetros da Árvore de Decisão Treinada:"
   ]
  },
  {
   "cell_type": "code",
   "execution_count": null,
   "metadata": {},
   "outputs": [],
   "source": [
    "tree = extract_tree_from_model(model, BinaryTree)\n",
    "print_tree(tree)"
   ]
  },
  {
   "cell_type": "markdown",
   "metadata": {},
   "source": [
    "## Parte 1: Implementar a solução usando apenas loops"
   ]
  },
  {
   "cell_type": "markdown",
   "metadata": {},
   "source": [
    "### Solução:"
   ]
  },
  {
   "cell_type": "code",
   "execution_count": null,
   "metadata": {},
   "outputs": [],
   "source": [
    "\"\"\" Escreva a a Solução Aqui \"\"\"\n",
    "class LoopDecisionTree(BinaryTree):\n",
    "    \n",
    "    def __init__(self, threshold=None, feature=None, decision=None, *args, **kwargs):\n",
    "        super(LoopDecisionTree, self).__init__(*args, **kwargs)\n",
    "        pass\n",
    "    \n",
    "    def predict(self, X):        \n",
    "        return None"
   ]
  },
  {
   "cell_type": "markdown",
   "metadata": {},
   "source": [
    "### Avaliação da Solução"
   ]
  },
  {
   "cell_type": "code",
   "execution_count": null,
   "metadata": {},
   "outputs": [],
   "source": [
    "\"\"\" Construindo a árvore de decisão \"\"\"\n",
    "# classe de Árvore de Decisão\n",
    "DTClass = LoopDecisionTree\n",
    "\n",
    "# Criando os Nós da Árvore\n",
    "n0 = DTClass(id=0, feature=3, threshold=0.80000001192092896)\n",
    "n1 = DTClass(id=1, decision=0)\n",
    "n2 = DTClass(id=2, feature=3, threshold=1.75)\n",
    "n3 = DTClass(id=3, feature=2, threshold=4.9499998092651367)\n",
    "n4 = DTClass(id=4, decision=1)\n",
    "n5 = DTClass(id=5, decision=2)\n",
    "n6 = DTClass(id=6, feature=2, threshold=4.8500003814697266)\n",
    "n7 = DTClass(id=7, decision=2)\n",
    "n8 = DTClass(id=8, decision=2)\n",
    "\n",
    "# Construindo a Árvore\n",
    "n0.append_left_child(n1)\n",
    "n0.append_right_child(n2)\n",
    "n2.append_left_child(n3)\n",
    "n2.append_right_child(n6)\n",
    "n3.append_left_child(n4)\n",
    "n3.append_right_child(n5)\n",
    "n6.append_left_child(n7)\n",
    "n6.append_right_child(n8)\n",
    "\n",
    "decision_tree = n0"
   ]
  },
  {
   "cell_type": "code",
   "execution_count": null,
   "metadata": {},
   "outputs": [],
   "source": [
    "assert (model.predict(iris['data']) == decision_tree.predict(iris['data'])).all()"
   ]
  },
  {
   "cell_type": "markdown",
   "metadata": {},
   "source": [
    "## Parte 2: Implementar a solução usando _numpy_"
   ]
  },
  {
   "cell_type": "markdown",
   "metadata": {},
   "source": [
    "### Solução:"
   ]
  },
  {
   "cell_type": "code",
   "execution_count": null,
   "metadata": {
    "collapsed": true
   },
   "outputs": [],
   "source": [
    "\"\"\" Escreva a a Solução Aqui \"\"\"\n",
    "class VectorDecisionTree(BinaryTree):    \n",
    "        \n",
    "    def __init__(self, threshold=None, feature=None, decision=None, *args, **kwargs):\n",
    "        super(VectorDecisionTree, self).__init__(*args, **kwargs)\n",
    "        pass\n",
    "    \n",
    "    def predict(self, X):\n",
    "        return None"
   ]
  },
  {
   "cell_type": "markdown",
   "metadata": {},
   "source": [
    "### Avaliação da Solução"
   ]
  },
  {
   "cell_type": "code",
   "execution_count": null,
   "metadata": {
    "collapsed": true
   },
   "outputs": [],
   "source": [
    "\"\"\" Construindo a árvore de decisão \"\"\"\n",
    "# classe de Árvore de Decisão\n",
    "DTClass = VectorDecisionTree\n",
    "\n",
    "# Criando os Nós da Árvore\n",
    "n0 = DTClass(id=0, feature=3, threshold=0.80000001192092896)\n",
    "n1 = DTClass(id=1, decision=0)\n",
    "n2 = DTClass(id=2, feature=3, threshold=1.75)\n",
    "n3 = DTClass(id=3, feature=2, threshold=4.9499998092651367)\n",
    "n4 = DTClass(id=4, decision=1)\n",
    "n5 = DTClass(id=5, decision=2)\n",
    "n6 = DTClass(id=6, feature=2, threshold=4.8500003814697266)\n",
    "n7 = DTClass(id=7, decision=2)\n",
    "n8 = DTClass(id=8, decision=2)\n",
    "\n",
    "# Construindo a Árvore\n",
    "n0.append_left_child(n1)\n",
    "n0.append_right_child(n2)\n",
    "n2.append_left_child(n3)\n",
    "n2.append_right_child(n6)\n",
    "n3.append_left_child(n4)\n",
    "n3.append_right_child(n5)\n",
    "n6.append_left_child(n7)\n",
    "n6.append_right_child(n8)\n",
    "\n",
    "decision_tree = n0"
   ]
  },
  {
   "cell_type": "code",
   "execution_count": null,
   "metadata": {},
   "outputs": [],
   "source": [
    "assert (model.predict(iris['data']) == decision_tree.predict(iris['data'])).all()"
   ]
  },
  {
   "cell_type": "markdown",
   "metadata": {},
   "source": [
    "## Parte 3: Avaliar a diferença de velocidade"
   ]
  },
  {
   "cell_type": "markdown",
   "metadata": {},
   "source": [
    "### Solução:"
   ]
  },
  {
   "cell_type": "code",
   "execution_count": null,
   "metadata": {},
   "outputs": [],
   "source": [
    "\"\"\" Escreva a a Solução Aqui \"\"\""
   ]
  }
 ],
 "metadata": {
  "kernelspec": {
   "display_name": "Python 3",
   "language": "python",
   "name": "python3"
  },
  "language_info": {
   "codemirror_mode": {
    "name": "ipython",
    "version": 3
   },
   "file_extension": ".py",
   "mimetype": "text/x-python",
   "name": "python",
   "nbconvert_exporter": "python",
   "pygments_lexer": "ipython3",
   "version": "3.6.2"
  }
 },
 "nbformat": 4,
 "nbformat_minor": 2
}
