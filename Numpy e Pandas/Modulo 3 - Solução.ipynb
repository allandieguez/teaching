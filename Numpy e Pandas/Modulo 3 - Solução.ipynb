{
 "cells": [
  {
   "cell_type": "markdown",
   "metadata": {},
   "source": [
    "# Módulo 3: Leitura e Escrita em Arquivos + Combinando Tabelas"
   ]
  },
  {
   "cell_type": "markdown",
   "metadata": {},
   "source": [
    "___"
   ]
  },
  {
   "cell_type": "markdown",
   "metadata": {},
   "source": [
    "# Imports para a Aula"
   ]
  },
  {
   "cell_type": "code",
   "execution_count": 1,
   "metadata": {
    "collapsed": true
   },
   "outputs": [],
   "source": [
    "import os\n",
    "import pandas as pd"
   ]
  },
  {
   "cell_type": "markdown",
   "metadata": {},
   "source": [
    "___"
   ]
  },
  {
   "cell_type": "markdown",
   "metadata": {},
   "source": [
    "# Solução do Desafio"
   ]
  },
  {
   "cell_type": "markdown",
   "metadata": {},
   "source": [
    "## Objetivo:\n",
    "\n",
    "Construir um **dataset** a partir de tabelas de diferentes formatos contidas em arquivos separados."
   ]
  },
  {
   "cell_type": "markdown",
   "metadata": {},
   "source": [
    "## Solução"
   ]
  },
  {
   "cell_type": "markdown",
   "metadata": {},
   "source": [
    "### Arquivos das Tabelas"
   ]
  },
  {
   "cell_type": "markdown",
   "metadata": {},
   "source": [
    "#### Download dos Arquivos\n",
    "\n",
    "* Link: <a href=\"https://drive.google.com/open?id=0BzHr4OwCpy_haWdqWlBFODVKOHc\" target=_blank> https://drive.google.com/open?id=0BzHr4OwCpy_haWdqWlBFODVKOHc </a>"
   ]
  },
  {
   "cell_type": "markdown",
   "metadata": {},
   "source": [
    "#### Arquivos de Referência"
   ]
  },
  {
   "cell_type": "code",
   "execution_count": 2,
   "metadata": {
    "collapsed": true
   },
   "outputs": [],
   "source": [
    "path = os.path.join(\"data\", \"desafio\")"
   ]
  },
  {
   "cell_type": "code",
   "execution_count": 3,
   "metadata": {
    "collapsed": true
   },
   "outputs": [],
   "source": [
    "input_file = {\n",
    "    \"aisles\": os.path.join(path, \"aisles.csv\"),\n",
    "    \"departments\": os.path.join(path, \"departments.csv\"),\n",
    "    \"order_products\": os.path.join(path, \"order_products.csv\"),\n",
    "    \"orders\": os.path.join(path, \"orders.csv\"),\n",
    "    \"products\": os.path.join(path, \"products.csv\")\n",
    "}"
   ]
  },
  {
   "cell_type": "markdown",
   "metadata": {},
   "source": [
    "#### Arquivo de Resposta"
   ]
  },
  {
   "cell_type": "code",
   "execution_count": 4,
   "metadata": {
    "collapsed": true
   },
   "outputs": [],
   "source": [
    "output_file = os.path.join(path, \"dataset.csv\")"
   ]
  },
  {
   "cell_type": "markdown",
   "metadata": {},
   "source": [
    "### Construção do Dataset"
   ]
  },
  {
   "cell_type": "markdown",
   "metadata": {},
   "source": [
    "Referência: \n",
    "* The Instacart Online Grocery Shopping Dataset 2017”, Accessed from https://www.instacart.com/datasets/grocery-shopping-2017 on October 20, 2017.\n",
    "* Descrição dos Campos: <a href=\"https://gist.github.com/jeremystan/c3b39d947d9b88b3ccff3147dbcf6c6b\" target=_blank> https://gist.github.com/jeremystan/c3b39d947d9b88b3ccff3147dbcf6c6b </a>"
   ]
  },
  {
   "cell_type": "markdown",
   "metadata": {},
   "source": [
    "#### Leitura dos Arquivos\n",
    "* sep = ',' para todos os arquivos\n",
    "* o nome da variável deverá ser o mesmo do dicionário. Exemplo: \n",
    "```\n",
    "aisles = pd.read_csv(input_file[\"aisles\"])\n",
    "```\n",
    "* carregar do aqrquivo apenas as colunas especificadas em cada item       "
   ]
  },
  {
   "cell_type": "markdown",
   "metadata": {},
   "source": [
    "#####  orders\n",
    "* colunas: \n",
    "    * order_id\n",
    "    * user_id\n",
    "    * order_dow\n",
    "* sep: ','"
   ]
  },
  {
   "cell_type": "code",
   "execution_count": 5,
   "metadata": {
    "collapsed": true
   },
   "outputs": [],
   "source": [
    "orders = pd.read_csv(\n",
    "    input_file[\"orders\"], \n",
    "    sep=\",\", \n",
    "    usecols=[\"order_id\", \"user_id\", \"order_dow\"]\n",
    ")"
   ]
  },
  {
   "cell_type": "markdown",
   "metadata": {},
   "source": [
    "##### products\n",
    "* colunas: \n",
    "    * product_id\n",
    "    * product_name\n",
    "    * aisle_id\n",
    "    * department_id\n",
    "* sep: ','"
   ]
  },
  {
   "cell_type": "code",
   "execution_count": 6,
   "metadata": {
    "collapsed": true
   },
   "outputs": [],
   "source": [
    "products = pd.read_csv(\n",
    "    input_file[\"products\"], \n",
    "    sep=\",\", \n",
    "    usecols=[\"product_id\", \"product_name\", \"aisle_id\", \"department_id\"]\n",
    ")"
   ]
  },
  {
   "cell_type": "markdown",
   "metadata": {},
   "source": [
    "#####  aisles\n",
    "* colunas: \n",
    "    * aisle_id\n",
    "    * aisle\n",
    "* sep: ','"
   ]
  },
  {
   "cell_type": "code",
   "execution_count": 7,
   "metadata": {
    "collapsed": true
   },
   "outputs": [],
   "source": [
    "aisles = pd.read_csv(\n",
    "    input_file[\"aisles\"], \n",
    "    sep=\",\", \n",
    "    usecols=[\"aisle_id\", \"aisle\"]\n",
    ")"
   ]
  },
  {
   "cell_type": "markdown",
   "metadata": {},
   "source": [
    "##### department\n",
    "* colunas: \n",
    "    * department_id\n",
    "    * department\n",
    "* sep: ','"
   ]
  },
  {
   "cell_type": "code",
   "execution_count": 8,
   "metadata": {
    "collapsed": true
   },
   "outputs": [],
   "source": [
    "departments = pd.read_csv(\n",
    "    input_file[\"departments\"], \n",
    "    sep=\",\", \n",
    "    usecols=[\"department_id\", \"department\"]\n",
    ")"
   ]
  },
  {
   "cell_type": "markdown",
   "metadata": {},
   "source": [
    "##### order_products\n",
    "* colunas:\n",
    "    * order_id\n",
    "    * product_id\n",
    "* sep: ','"
   ]
  },
  {
   "cell_type": "code",
   "execution_count": 9,
   "metadata": {
    "collapsed": true
   },
   "outputs": [],
   "source": [
    "order_products = pd.read_csv(\n",
    "    input_file[\"order_products\"], \n",
    "    sep=\",\", \n",
    "    usecols=[\"order_id\", \"product_id\"]\n",
    ")"
   ]
  },
  {
   "cell_type": "markdown",
   "metadata": {},
   "source": [
    "#### Construção do Dataset\n",
    "* Junte todos os DataFrames usando os métodos apropriados\n",
    "* O dataset final deve conter apenas as seguintes colunas:\n",
    "    * order_id\n",
    "    * user_id\n",
    "    * order_dow\n",
    "    * department\n",
    "    * aisle\n",
    "    * product_name"
   ]
  },
  {
   "cell_type": "code",
   "execution_count": 10,
   "metadata": {
    "collapsed": true
   },
   "outputs": [],
   "source": [
    "\"\"\" 'order_products' possui mais order_ids do que 'orders', portanto deve-se usar um 'inner join' \"\"\"\n",
    "dataset = pd.merge(\n",
    "    orders,\n",
    "    order_products,\n",
    "    on=\"order_id\",\n",
    "    how=\"inner\"\n",
    ")"
   ]
  },
  {
   "cell_type": "code",
   "execution_count": 11,
   "metadata": {
    "collapsed": true
   },
   "outputs": [],
   "source": [
    "dataset = pd.merge(\n",
    "    dataset,\n",
    "    products,\n",
    "    on=\"product_id\",\n",
    "    how=\"left\"\n",
    ")"
   ]
  },
  {
   "cell_type": "code",
   "execution_count": 12,
   "metadata": {
    "collapsed": true
   },
   "outputs": [],
   "source": [
    "dataset = pd.merge(\n",
    "    dataset,\n",
    "    departments,\n",
    "    on=\"department_id\",\n",
    "    how=\"left\"\n",
    ")"
   ]
  },
  {
   "cell_type": "code",
   "execution_count": 13,
   "metadata": {
    "collapsed": true
   },
   "outputs": [],
   "source": [
    "dataset = pd.merge(\n",
    "    dataset,\n",
    "    aisles,\n",
    "    on=\"aisle_id\",\n",
    "    how=\"left\"\n",
    ")"
   ]
  },
  {
   "cell_type": "code",
   "execution_count": 14,
   "metadata": {
    "collapsed": true
   },
   "outputs": [],
   "source": [
    "\"\"\" Mantendo apenas as colunas desejadas \"\"\"\n",
    "dataset = dataset[[\"order_id\", \"user_id\", \"order_dow\", \"department\", \"aisle\", \"product_name\"]]"
   ]
  },
  {
   "cell_type": "markdown",
   "metadata": {},
   "source": [
    "#### Visualização do Dataset"
   ]
  },
  {
   "cell_type": "code",
   "execution_count": 15,
   "metadata": {},
   "outputs": [
    {
     "data": {
      "text/html": [
       "<div>\n",
       "<style>\n",
       "    .dataframe thead tr:only-child th {\n",
       "        text-align: right;\n",
       "    }\n",
       "\n",
       "    .dataframe thead th {\n",
       "        text-align: left;\n",
       "    }\n",
       "\n",
       "    .dataframe tbody tr th {\n",
       "        vertical-align: top;\n",
       "    }\n",
       "</style>\n",
       "<table border=\"1\" class=\"dataframe\">\n",
       "  <thead>\n",
       "    <tr style=\"text-align: right;\">\n",
       "      <th></th>\n",
       "      <th>order_id</th>\n",
       "      <th>user_id</th>\n",
       "      <th>order_dow</th>\n",
       "      <th>department</th>\n",
       "      <th>aisle</th>\n",
       "      <th>product_name</th>\n",
       "    </tr>\n",
       "  </thead>\n",
       "  <tbody>\n",
       "    <tr>\n",
       "      <th>0</th>\n",
       "      <td>1187899</td>\n",
       "      <td>1</td>\n",
       "      <td>4</td>\n",
       "      <td>beverages</td>\n",
       "      <td>soft drinks</td>\n",
       "      <td>Soda</td>\n",
       "    </tr>\n",
       "    <tr>\n",
       "      <th>1</th>\n",
       "      <td>1187899</td>\n",
       "      <td>1</td>\n",
       "      <td>4</td>\n",
       "      <td>dairy eggs</td>\n",
       "      <td>packaged cheese</td>\n",
       "      <td>Organic String Cheese</td>\n",
       "    </tr>\n",
       "    <tr>\n",
       "      <th>2</th>\n",
       "      <td>1187899</td>\n",
       "      <td>1</td>\n",
       "      <td>4</td>\n",
       "      <td>dairy eggs</td>\n",
       "      <td>yogurt</td>\n",
       "      <td>0% Greek Strained Yogurt</td>\n",
       "    </tr>\n",
       "    <tr>\n",
       "      <th>3</th>\n",
       "      <td>1187899</td>\n",
       "      <td>1</td>\n",
       "      <td>4</td>\n",
       "      <td>household</td>\n",
       "      <td>paper goods</td>\n",
       "      <td>XL Pick-A-Size Paper Towel Rolls</td>\n",
       "    </tr>\n",
       "    <tr>\n",
       "      <th>4</th>\n",
       "      <td>1187899</td>\n",
       "      <td>1</td>\n",
       "      <td>4</td>\n",
       "      <td>snacks</td>\n",
       "      <td>candy chocolate</td>\n",
       "      <td>Milk Chocolate Almonds</td>\n",
       "    </tr>\n",
       "    <tr>\n",
       "      <th>5</th>\n",
       "      <td>1187899</td>\n",
       "      <td>1</td>\n",
       "      <td>4</td>\n",
       "      <td>snacks</td>\n",
       "      <td>nuts seeds dried fruit</td>\n",
       "      <td>Pistachios</td>\n",
       "    </tr>\n",
       "    <tr>\n",
       "      <th>6</th>\n",
       "      <td>1187899</td>\n",
       "      <td>1</td>\n",
       "      <td>4</td>\n",
       "      <td>breakfast</td>\n",
       "      <td>cereal</td>\n",
       "      <td>Cinnamon Toast Crunch</td>\n",
       "    </tr>\n",
       "  </tbody>\n",
       "</table>\n",
       "</div>"
      ],
      "text/plain": [
       "   order_id  user_id  order_dow  department                   aisle  \\\n",
       "0   1187899        1          4   beverages             soft drinks   \n",
       "1   1187899        1          4  dairy eggs         packaged cheese   \n",
       "2   1187899        1          4  dairy eggs                  yogurt   \n",
       "3   1187899        1          4   household             paper goods   \n",
       "4   1187899        1          4      snacks         candy chocolate   \n",
       "5   1187899        1          4      snacks  nuts seeds dried fruit   \n",
       "6   1187899        1          4   breakfast                  cereal   \n",
       "\n",
       "                       product_name  \n",
       "0                              Soda  \n",
       "1             Organic String Cheese  \n",
       "2          0% Greek Strained Yogurt  \n",
       "3  XL Pick-A-Size Paper Towel Rolls  \n",
       "4            Milk Chocolate Almonds  \n",
       "5                        Pistachios  \n",
       "6             Cinnamon Toast Crunch  "
      ]
     },
     "execution_count": 15,
     "metadata": {},
     "output_type": "execute_result"
    }
   ],
   "source": [
    "dataset.head(7)"
   ]
  },
  {
   "cell_type": "code",
   "execution_count": 16,
   "metadata": {},
   "outputs": [
    {
     "data": {
      "text/html": [
       "<div>\n",
       "<style>\n",
       "    .dataframe thead tr:only-child th {\n",
       "        text-align: right;\n",
       "    }\n",
       "\n",
       "    .dataframe thead th {\n",
       "        text-align: left;\n",
       "    }\n",
       "\n",
       "    .dataframe tbody tr th {\n",
       "        vertical-align: top;\n",
       "    }\n",
       "</style>\n",
       "<table border=\"1\" class=\"dataframe\">\n",
       "  <thead>\n",
       "    <tr style=\"text-align: right;\">\n",
       "      <th></th>\n",
       "      <th>order_id</th>\n",
       "      <th>user_id</th>\n",
       "      <th>order_dow</th>\n",
       "      <th>department</th>\n",
       "      <th>aisle</th>\n",
       "      <th>product_name</th>\n",
       "    </tr>\n",
       "  </thead>\n",
       "  <tbody>\n",
       "    <tr>\n",
       "      <th>1384614</th>\n",
       "      <td>272231</td>\n",
       "      <td>206209</td>\n",
       "      <td>6</td>\n",
       "      <td>frozen</td>\n",
       "      <td>ice cream ice</td>\n",
       "      <td>Phish Food Frozen Yogurt</td>\n",
       "    </tr>\n",
       "    <tr>\n",
       "      <th>1384615</th>\n",
       "      <td>272231</td>\n",
       "      <td>206209</td>\n",
       "      <td>6</td>\n",
       "      <td>bakery</td>\n",
       "      <td>bread</td>\n",
       "      <td>French Baguette Bread</td>\n",
       "    </tr>\n",
       "    <tr>\n",
       "      <th>1384616</th>\n",
       "      <td>272231</td>\n",
       "      <td>206209</td>\n",
       "      <td>6</td>\n",
       "      <td>breakfast</td>\n",
       "      <td>cereal</td>\n",
       "      <td>Original Multigrain Spoonfuls Cereal</td>\n",
       "    </tr>\n",
       "  </tbody>\n",
       "</table>\n",
       "</div>"
      ],
      "text/plain": [
       "         order_id  user_id  order_dow department          aisle  \\\n",
       "1384614    272231   206209          6     frozen  ice cream ice   \n",
       "1384615    272231   206209          6     bakery          bread   \n",
       "1384616    272231   206209          6  breakfast         cereal   \n",
       "\n",
       "                                 product_name  \n",
       "1384614              Phish Food Frozen Yogurt  \n",
       "1384615                 French Baguette Bread  \n",
       "1384616  Original Multigrain Spoonfuls Cereal  "
      ]
     },
     "execution_count": 16,
     "metadata": {},
     "output_type": "execute_result"
    }
   ],
   "source": [
    "dataset.tail(3)"
   ]
  },
  {
   "cell_type": "markdown",
   "metadata": {},
   "source": [
    "#### Salvando o Dataset"
   ]
  },
  {
   "cell_type": "code",
   "execution_count": 17,
   "metadata": {
    "collapsed": true
   },
   "outputs": [],
   "source": [
    "dataset.to_csv(output_file, sep=\",\", encoding=\"utf-8\")"
   ]
  }
 ],
 "metadata": {
  "kernelspec": {
   "display_name": "Python 3",
   "language": "python",
   "name": "python3"
  },
  "language_info": {
   "codemirror_mode": {
    "name": "ipython",
    "version": 3
   },
   "file_extension": ".py",
   "mimetype": "text/x-python",
   "name": "python",
   "nbconvert_exporter": "python",
   "pygments_lexer": "ipython3",
   "version": "3.6.2"
  }
 },
 "nbformat": 4,
 "nbformat_minor": 2
}
