{
 "cells": [
  {
   "cell_type": "markdown",
   "metadata": {},
   "source": [
    "# Módulo 3: Leitura e Escrita em Arquivos + Combinando Tabelas"
   ]
  },
  {
   "cell_type": "markdown",
   "metadata": {},
   "source": [
    "___"
   ]
  },
  {
   "cell_type": "markdown",
   "metadata": {},
   "source": [
    "# Tutorial"
   ]
  },
  {
   "cell_type": "markdown",
   "metadata": {},
   "source": [
    "## Imports para a Aula"
   ]
  },
  {
   "cell_type": "code",
   "execution_count": null,
   "metadata": {
    "collapsed": true
   },
   "outputs": [],
   "source": [
    "import os\n",
    "import pandas as pd"
   ]
  },
  {
   "cell_type": "markdown",
   "metadata": {},
   "source": [
    "## Operações com Arquivos"
   ]
  },
  {
   "cell_type": "markdown",
   "metadata": {},
   "source": [
    "### Criando os Arquivos"
   ]
  },
  {
   "cell_type": "markdown",
   "metadata": {},
   "source": [
    "#### Criando Estrutura de Pastas"
   ]
  },
  {
   "cell_type": "code",
   "execution_count": null,
   "metadata": {},
   "outputs": [],
   "source": [
    "try:\n",
    "    os.makedirs(os.path.join(\"data\", \"tutorial\"))\n",
    "    print(\"Pasta criada.\")\n",
    "except OSError:\n",
    "    print(\"Pasta já existe!\")"
   ]
  },
  {
   "cell_type": "markdown",
   "metadata": {},
   "source": [
    "#### Dataset *orders.csv*"
   ]
  },
  {
   "cell_type": "code",
   "execution_count": null,
   "metadata": {
    "collapsed": true
   },
   "outputs": [],
   "source": [
    "\"\"\" nome do arquivo \"\"\"\n",
    "file_name = os.path.join(\"data\", \"tutorial\", \"orders.csv\")"
   ]
  },
  {
   "cell_type": "code",
   "execution_count": null,
   "metadata": {},
   "outputs": [],
   "source": [
    "\"\"\" criação do DataFrame \"\"\"\n",
    "df = pd.DataFrame(\n",
    "    columns=[\"user_id\", \"store_id\", \"product_id\"],\n",
    "    data=[\n",
    "        [1, 1, 1],\n",
    "        [1, 2, 6],\n",
    "        [3, 2, 7],\n",
    "        [2, 2, 3],\n",
    "        [3, 2, 3],\n",
    "        [4, 3, 2],\n",
    "        [2, 3, 1],\n",
    "        [1, 1, 3],\n",
    "        [1, 3, 3],\n",
    "        [5, 1, 4],\n",
    "        [5, 1, 1],\n",
    "        [3, 2, 1],\n",
    "        [1, 2, 1],\n",
    "        [2, 2, 2],\n",
    "        [3, 2, 2],\n",
    "        [4, 2, 3],\n",
    "        [4, 1, 5],\n",
    "        [5, 1, 6],\n",
    "        [3, 1, 6],\n",
    "        [2, 3, 7],\n",
    "    ]\n",
    ")\n",
    "df"
   ]
  },
  {
   "cell_type": "code",
   "execution_count": null,
   "metadata": {
    "collapsed": true
   },
   "outputs": [],
   "source": [
    "\"\"\" salvando o DataFrame \"\"\"\n",
    "df.to_csv(file_name, sep=\",\")"
   ]
  },
  {
   "cell_type": "markdown",
   "metadata": {},
   "source": [
    "#### Dataset *stores.csv*"
   ]
  },
  {
   "cell_type": "code",
   "execution_count": null,
   "metadata": {
    "collapsed": true
   },
   "outputs": [],
   "source": [
    "\"\"\" nome do arquivo \"\"\"\n",
    "file_name = os.path.join(\"data\", \"tutorial\", \"stores.csv\")"
   ]
  },
  {
   "cell_type": "code",
   "execution_count": null,
   "metadata": {},
   "outputs": [],
   "source": [
    "\"\"\" criação do DataFrame \"\"\"\n",
    "df = pd.DataFrame(\n",
    "    columns=[\"store_id\", \"store_name\"],\n",
    "    data=[\n",
    "        [1, \"Pão de Açúcar\"],\n",
    "        [2, \"Dia\"],\n",
    "        [3, \"Extra\"],\n",
    "    ]\n",
    ").set_index(\"store_id\")\n",
    "df"
   ]
  },
  {
   "cell_type": "code",
   "execution_count": null,
   "metadata": {
    "collapsed": true
   },
   "outputs": [],
   "source": [
    "\"\"\" salvando o DataFrame \"\"\"\n",
    "df.to_csv(\n",
    "    file_name,          # nome do arquivo\n",
    "    sep=\"\\t\",           # separador TAB\n",
    "    encoding=\"utf-8\"    # encoding: garante formato correto de strings no arquivo\n",
    ")"
   ]
  },
  {
   "cell_type": "markdown",
   "metadata": {},
   "source": [
    "#### Dataset *product.csv*"
   ]
  },
  {
   "cell_type": "code",
   "execution_count": null,
   "metadata": {
    "collapsed": true
   },
   "outputs": [],
   "source": [
    "\"\"\" nome do arquivo \"\"\"\n",
    "file_name = os.path.join(\"data\", \"tutorial\", \"products.csv\")"
   ]
  },
  {
   "cell_type": "code",
   "execution_count": null,
   "metadata": {},
   "outputs": [],
   "source": [
    "\"\"\" criação do DataFrame \"\"\"\n",
    "df = pd.DataFrame(\n",
    "    columns=[\"product_id\", \"product_name\"],\n",
    "    data=[\n",
    "        [1, \"Leite\"],\n",
    "        [2, \"Ovos\"],\n",
    "        [3, \"Arroz\"],\n",
    "        [4, \"Feijão\"],\n",
    "        [5, \"Carne\"],\n",
    "        [6, \"Frango\"],\n",
    "        [7, \"Peixe\"]\n",
    "    ]\n",
    ").set_index(\"product_id\")  # set_index: usa a coluna especificada como índice\n",
    "df"
   ]
  },
  {
   "cell_type": "code",
   "execution_count": null,
   "metadata": {
    "collapsed": true
   },
   "outputs": [],
   "source": [
    "\"\"\" salvando o DataFrame \"\"\"\n",
    "df.to_csv(\n",
    "    file_name,          # nome do arquivo\n",
    "    sep=\";\",            # separador ;\n",
    "    encoding=\"utf-8\"    # encoding: garante formato correto de strings no arquivo\n",
    ")"
   ]
  },
  {
   "cell_type": "markdown",
   "metadata": {},
   "source": [
    "###  Leitura de Arquivos"
   ]
  },
  {
   "cell_type": "markdown",
   "metadata": {},
   "source": [
    "#### Parâmetros _default_"
   ]
  },
  {
   "cell_type": "code",
   "execution_count": null,
   "metadata": {
    "collapsed": true
   },
   "outputs": [],
   "source": [
    "file_name = os.path.join(\"data\", \"tutorial\", \"orders.csv\")"
   ]
  },
  {
   "cell_type": "code",
   "execution_count": null,
   "metadata": {},
   "outputs": [],
   "source": [
    "pd.read_csv(file_name)"
   ]
  },
  {
   "cell_type": "markdown",
   "metadata": {},
   "source": [
    "#### Parâmetro *index\\_col*\n",
    "* define a coluna que contém o index\n",
    "* valores esperados: inteiro ou lista de inteiros \n",
    "* valor _default_: None"
   ]
  },
  {
   "cell_type": "code",
   "execution_count": null,
   "metadata": {},
   "outputs": [],
   "source": [
    "\"\"\" definindo index_col para a primeira coluna \"\"\"\n",
    "pd.read_csv(file_name, index_col=0)"
   ]
  },
  {
   "cell_type": "code",
   "execution_count": null,
   "metadata": {},
   "outputs": [],
   "source": [
    "\"\"\" definindo index_col para a segunda coluna \"\"\"\n",
    "pd.read_csv(file_name, index_col=1)"
   ]
  },
  {
   "cell_type": "markdown",
   "metadata": {},
   "source": [
    "####  Parâmetro _sep_\n",
    "* define o separador de colunas.\n",
    "* valores esperados: caractere\n",
    "* valor _default_: \",\""
   ]
  },
  {
   "cell_type": "code",
   "execution_count": null,
   "metadata": {},
   "outputs": [],
   "source": [
    "\"\"\" Modificando o parâmetro sep\"\"\"\n",
    "pd.read_csv(file_name, sep=\";\")"
   ]
  },
  {
   "cell_type": "code",
   "execution_count": null,
   "metadata": {},
   "outputs": [],
   "source": [
    "\"\"\" Usando explicitamente o valor default de sep \"\"\"\n",
    "pd.read_csv(file_name, sep=\",\")"
   ]
  },
  {
   "cell_type": "markdown",
   "metadata": {},
   "source": [
    "####  Parâmetro _header_\n",
    "* define a linha que contém as colunas\n",
    "* valores esperados: inteiro ou lista de inteiros ou None\n",
    "* valor _default_: 0"
   ]
  },
  {
   "cell_type": "code",
   "execution_count": null,
   "metadata": {},
   "outputs": [],
   "source": [
    "\"\"\" Usando header = None \"\"\"\n",
    "pd.read_csv(file_name, header=None)"
   ]
  },
  {
   "cell_type": "code",
   "execution_count": null,
   "metadata": {},
   "outputs": [],
   "source": [
    "\"\"\" Usando outra linha como header; nota-se que as linhas acima são eliminadas \"\"\"\n",
    "pd.read_csv(file_name, header=1)"
   ]
  },
  {
   "cell_type": "code",
   "execution_count": null,
   "metadata": {},
   "outputs": [],
   "source": [
    "\"\"\" Usando múltiplass linhas como header \"\"\"\n",
    "pd.read_csv(file_name, header=[0,1,2])"
   ]
  },
  {
   "cell_type": "markdown",
   "metadata": {},
   "source": [
    "####  Parâmetro _usecols_\n",
    "* define quais colunas serão lidas, permitindo carregar apenas os dados desejados\n",
    "* valores esperados: lista de nomes ou None\n",
    "* valor _default_: None"
   ]
  },
  {
   "cell_type": "code",
   "execution_count": null,
   "metadata": {},
   "outputs": [],
   "source": [
    "\"\"\" lendo apenas duas colunas \"\"\"\n",
    "pd.read_csv(file_name, usecols=[\"product_id\", \"store_id\"])"
   ]
  },
  {
   "cell_type": "markdown",
   "metadata": {},
   "source": [
    "##  Agrupando DataFrames"
   ]
  },
  {
   "cell_type": "markdown",
   "metadata": {},
   "source": [
    "### Carregando as Tabelas dos Arquivos"
   ]
  },
  {
   "cell_type": "code",
   "execution_count": null,
   "metadata": {
    "collapsed": true
   },
   "outputs": [],
   "source": [
    "orders = pd.read_csv(\n",
    "    os.path.join(\"data\", \"tutorial\", \"orders.csv\"),\n",
    "    sep=\",\",\n",
    "    index_col=0\n",
    ")"
   ]
  },
  {
   "cell_type": "code",
   "execution_count": null,
   "metadata": {
    "collapsed": true
   },
   "outputs": [],
   "source": [
    "stores = pd.read_csv(\n",
    "    os.path.join(\"data\", \"tutorial\", \"stores.csv\"),\n",
    "    sep=\"\\t\",\n",
    "    index_col=0,\n",
    "    encoding=\"utf-8\"\n",
    ")"
   ]
  },
  {
   "cell_type": "code",
   "execution_count": null,
   "metadata": {
    "collapsed": true
   },
   "outputs": [],
   "source": [
    "products = pd.read_csv(\n",
    "    os.path.join(\"data\", \"tutorial\", \"products.csv\"),\n",
    "    sep=\";\",\n",
    "    index_col=0,\n",
    "    encoding=\"utf-8\"\n",
    ")"
   ]
  },
  {
   "cell_type": "markdown",
   "metadata": {},
   "source": [
    "### Estruturas Homogêneas"
   ]
  },
  {
   "cell_type": "markdown",
   "metadata": {},
   "source": [
    "#### Adicionando Linhas\n",
    "* método: _append_\n",
    "* concatena DataFrames no sentido das linhas"
   ]
  },
  {
   "cell_type": "code",
   "execution_count": null,
   "metadata": {},
   "outputs": [],
   "source": [
    "\"\"\" novos dados de 'orders' \"\"\"\n",
    "new_orders = pd.DataFrame(\n",
    "    columns=[\"user_id\", \"store_id\", \"product_id\"],\n",
    "    data=[\n",
    "        [1, 1, 1],\n",
    "        [2, 1, 2],\n",
    "        [3, 2, 1],\n",
    "        [2, 1, 3],\n",
    "        [1, 2, 1],\n",
    "    ]\n",
    ")\n",
    "\n",
    "new_orders"
   ]
  },
  {
   "cell_type": "code",
   "execution_count": null,
   "metadata": {},
   "outputs": [],
   "source": [
    "\"\"\" adicionando no 'orders' original \"\"\"\n",
    "temp_orders = orders.append(new_orders)\n",
    "\n",
    "temp_orders"
   ]
  },
  {
   "cell_type": "markdown",
   "metadata": {},
   "source": [
    "Observações:\n",
    "* ***append*** não verifica índices, podendo repetir existentes\n",
    "* Caso um dos DataFrames tenha uma coluna a mais, o outro replica essa coluna, preenchida com NaNs"
   ]
  },
  {
   "cell_type": "code",
   "execution_count": null,
   "metadata": {},
   "outputs": [],
   "source": [
    "new_orders.append(\n",
    "    pd.DataFrame(\n",
    "        columns=list(new_orders.columns) + [\"new_column\"],\n",
    "        data=[\n",
    "            [1, 2, 1, 51],\n",
    "            [1, 2, 1, 15]\n",
    "        ]\n",
    "    )\n",
    ")"
   ]
  },
  {
   "cell_type": "markdown",
   "metadata": {},
   "source": [
    "#### Adicionando Colunas\n",
    "* método: _join_\n",
    "* concatena DataFrames no sentido das colunas\n",
    "* junta DataFrames usando como base o _index_"
   ]
  },
  {
   "cell_type": "code",
   "execution_count": null,
   "metadata": {},
   "outputs": [],
   "source": [
    "new_stores = pd.DataFrame(\n",
    "    index=stores.index,\n",
    "    columns=[\"opens\", \"closes\"],    \n",
    "    data=[\n",
    "        [\"9:00\", \"22:00\"],\n",
    "        [\"8:00\", \"18:00\"],\n",
    "        [\"11:00\", \"21:00\"],\n",
    "    ]\n",
    ")\n",
    "new_stores"
   ]
  },
  {
   "cell_type": "code",
   "execution_count": null,
   "metadata": {},
   "outputs": [],
   "source": [
    "\"\"\" concatenando estruturas compatíveis  \"\"\"\n",
    "temp_stores = stores.join(new_stores)\n",
    "\n",
    "temp_stores"
   ]
  },
  {
   "cell_type": "markdown",
   "metadata": {},
   "source": [
    "Observações:\n",
    "* Tipos de ***join***: \n",
    "    * inner \n",
    "    * outer\n",
    "    * left\n",
    "    * right\n",
    "* comportamento _default_: ***left join*** "
   ]
  },
  {
   "cell_type": "code",
   "execution_count": null,
   "metadata": {
    "collapsed": true
   },
   "outputs": [],
   "source": [
    "\"\"\" modificando índices para exemplos \"\"\"\n",
    "new_stores.index = [3, 4, 5]"
   ]
  },
  {
   "cell_type": "code",
   "execution_count": null,
   "metadata": {},
   "outputs": [],
   "source": [
    "\"\"\" concatenando estruturas com índices diferentes \"\"\"\n",
    "stores.join(new_stores)"
   ]
  },
  {
   "cell_type": "code",
   "execution_count": null,
   "metadata": {},
   "outputs": [],
   "source": [
    "\"\"\" explicitando 'how=left' \"\"\"\n",
    "stores.join(new_stores, how=\"left\")"
   ]
  },
  {
   "cell_type": "code",
   "execution_count": null,
   "metadata": {},
   "outputs": [],
   "source": [
    "\"\"\" right join \"\"\"\n",
    "stores.join(new_stores, how=\"right\")"
   ]
  },
  {
   "cell_type": "code",
   "execution_count": null,
   "metadata": {},
   "outputs": [],
   "source": [
    "\"\"\" concatenando estruturas com índices diferentes \"\"\"\n",
    "stores.join(new_stores, how=\"outer\")"
   ]
  },
  {
   "cell_type": "code",
   "execution_count": null,
   "metadata": {},
   "outputs": [],
   "source": [
    "\"\"\" concatenando estruturas com índices diferentes \"\"\"\n",
    "stores.join(new_stores, how=\"inner\")"
   ]
  },
  {
   "cell_type": "markdown",
   "metadata": {},
   "source": [
    "###### Observação: \n",
    "Em DataFrames com nomes de coluna iguais, deve-se especificar sufixos para diferenciar as colunas. "
   ]
  },
  {
   "cell_type": "code",
   "execution_count": null,
   "metadata": {},
   "outputs": [],
   "source": [
    "new_stores.join(new_stores, lsuffix=\"_original\")"
   ]
  },
  {
   "cell_type": "code",
   "execution_count": null,
   "metadata": {},
   "outputs": [],
   "source": [
    "new_stores.join(new_stores, rsuffix=\"_copycat\")"
   ]
  },
  {
   "cell_type": "code",
   "execution_count": null,
   "metadata": {},
   "outputs": [],
   "source": [
    "new_stores.join(new_stores, lsuffix=\"_original\", rsuffix=\"_copycat\")"
   ]
  },
  {
   "cell_type": "markdown",
   "metadata": {},
   "source": [
    "### Estruturas Heterogêneas\n",
    "* método _merge_\n",
    "* construção de tabelas que compartilham uma ou mais variáveis\n",
    "* sufixos: idêntico a _join_\n",
    "* todos os tipos de join (inner, outer, left e right) são suportados\n",
    "* simplificando: _join_ onde se escolhe uma coluna em vez do index"
   ]
  },
  {
   "cell_type": "code",
   "execution_count": null,
   "metadata": {
    "collapsed": true
   },
   "outputs": [],
   "source": [
    "\"\"\" reset_index para liberar as variáveis para o merge \"\"\"\n",
    "stores = stores.reset_index()\n",
    "products = products.reset_index()"
   ]
  },
  {
   "cell_type": "code",
   "execution_count": null,
   "metadata": {
    "collapsed": true
   },
   "outputs": [],
   "source": [
    "\"\"\" adicionando store_name\"\"\"\n",
    "df = pd.merge(\n",
    "    left=orders,\n",
    "    right=stores,\n",
    "    on=\"store_id\"\n",
    ")\n",
    "df"
   ]
  },
  {
   "cell_type": "code",
   "execution_count": null,
   "metadata": {
    "collapsed": true
   },
   "outputs": [],
   "source": [
    "\"\"\" adicionando product_name\"\"\"\n",
    "df = pd.merge(\n",
    "    left=df,\n",
    "    right=products,\n",
    "    on=\"product_id\"\n",
    ")\n",
    "df"
   ]
  },
  {
   "cell_type": "markdown",
   "metadata": {},
   "source": [
    "___"
   ]
  },
  {
   "cell_type": "markdown",
   "metadata": {},
   "source": [
    "# Desafio"
   ]
  },
  {
   "cell_type": "markdown",
   "metadata": {},
   "source": [
    "## Objetivo:\n",
    "\n",
    "Construir um **dataset** a partir de tabelas de diferentes formatos contidas em arquivos separados."
   ]
  },
  {
   "cell_type": "markdown",
   "metadata": {},
   "source": [
    "## Solução"
   ]
  },
  {
   "cell_type": "markdown",
   "metadata": {},
   "source": [
    "### Arquivos das Tabelas"
   ]
  },
  {
   "cell_type": "markdown",
   "metadata": {},
   "source": [
    "#### Download dos Arquivos\n",
    "\n",
    "* Link: <a href=\"https://drive.google.com/open?id=0BzHr4OwCpy_haWdqWlBFODVKOHc\" target=_blank> https://drive.google.com/open?id=0BzHr4OwCpy_haWdqWlBFODVKOHc </a>"
   ]
  },
  {
   "cell_type": "markdown",
   "metadata": {},
   "source": [
    "#### Arquivos de Referência"
   ]
  },
  {
   "cell_type": "code",
   "execution_count": null,
   "metadata": {
    "collapsed": true
   },
   "outputs": [],
   "source": [
    "path = os.path.join(\"data\", \"desafio\")"
   ]
  },
  {
   "cell_type": "code",
   "execution_count": null,
   "metadata": {
    "collapsed": true
   },
   "outputs": [],
   "source": [
    "input_file = {\n",
    "    \"aisles\": os.path.join(path, \"aisles.csv\"),\n",
    "    \"departments\": os.path.join(path, \"departments.csv\"),\n",
    "    \"order_products\": os.path.join(path, \"order_products.csv\"),\n",
    "    \"orders\": os.path.join(path, \"orders.csv\"),\n",
    "    \"products\": os.path.join(path, \"products.csv\")\n",
    "}"
   ]
  },
  {
   "cell_type": "markdown",
   "metadata": {},
   "source": [
    "#### Arquivo de Resposta"
   ]
  },
  {
   "cell_type": "code",
   "execution_count": null,
   "metadata": {
    "collapsed": true
   },
   "outputs": [],
   "source": [
    "output_file = os.path.join(path, \"dataset.csv\")"
   ]
  },
  {
   "cell_type": "markdown",
   "metadata": {},
   "source": [
    "### Construção do Dataset"
   ]
  },
  {
   "cell_type": "markdown",
   "metadata": {},
   "source": [
    "Referência: \n",
    "* The Instacart Online Grocery Shopping Dataset 2017”, Accessed from https://www.instacart.com/datasets/grocery-shopping-2017 on October 20, 2017.\n",
    "* Descrição dos Campos: <a href=\"https://gist.github.com/jeremystan/c3b39d947d9b88b3ccff3147dbcf6c6b\" target=_blank> https://gist.github.com/jeremystan/c3b39d947d9b88b3ccff3147dbcf6c6b </a>"
   ]
  },
  {
   "cell_type": "markdown",
   "metadata": {},
   "source": [
    "#### Leitura dos Arquivos\n",
    "* sep = ',' para todos os arquivos\n",
    "* o nome da variável deverá ser o mesmo do dicionário. Exemplo: \n",
    "```\n",
    "aisles = pd.read_csv(input_file[\"aisles\"])\n",
    "```\n",
    "* carregar do aqrquivo apenas as colunas especificadas em cada item       "
   ]
  },
  {
   "cell_type": "markdown",
   "metadata": {},
   "source": [
    "#####  orders\n",
    "* colunas: \n",
    "    * order_id\n",
    "    * user_id\n",
    "    * order_dow\n",
    "* sep: ','"
   ]
  },
  {
   "cell_type": "code",
   "execution_count": null,
   "metadata": {
    "collapsed": true
   },
   "outputs": [],
   "source": [
    "\"\"\" Entre com o Código aqui \"\"\""
   ]
  },
  {
   "cell_type": "markdown",
   "metadata": {},
   "source": [
    "##### products\n",
    "* colunas: \n",
    "    * product_id\n",
    "    * product_name\n",
    "    * aisle_id\n",
    "    * department_id\n",
    " * sep: ','"
   ]
  },
  {
   "cell_type": "code",
   "execution_count": null,
   "metadata": {
    "collapsed": true
   },
   "outputs": [],
   "source": [
    "\"\"\" Entre com o Código aqui \"\"\""
   ]
  },
  {
   "cell_type": "markdown",
   "metadata": {},
   "source": [
    "#####  aisles\n",
    "* colunas: \n",
    "    * aisle_id\n",
    "    * aisle\n",
    "* sep: ','"
   ]
  },
  {
   "cell_type": "code",
   "execution_count": null,
   "metadata": {
    "collapsed": true
   },
   "outputs": [],
   "source": [
    "\"\"\" Entre com o Código aqui \"\"\""
   ]
  },
  {
   "cell_type": "markdown",
   "metadata": {},
   "source": [
    "##### department\n",
    "* colunas: \n",
    "    * department_id\n",
    "    * department\n",
    "* sep: ','"
   ]
  },
  {
   "cell_type": "code",
   "execution_count": null,
   "metadata": {
    "collapsed": true
   },
   "outputs": [],
   "source": [
    "\"\"\" Entre com o Código aqui \"\"\""
   ]
  },
  {
   "cell_type": "markdown",
   "metadata": {},
   "source": [
    "##### order_products\n",
    "* colunas:\n",
    "    * order_id\n",
    "    * product_id\n",
    "* sep: ','"
   ]
  },
  {
   "cell_type": "code",
   "execution_count": null,
   "metadata": {
    "collapsed": true
   },
   "outputs": [],
   "source": [
    "\"\"\" Entre com o Código aqui \"\"\""
   ]
  },
  {
   "cell_type": "markdown",
   "metadata": {},
   "source": [
    "#### Construção do Dataset\n",
    "* Junte todos os DataFrames usando os métodos apropriados\n",
    "* O dataset final deve conter apenas as seguintes colunas:\n",
    "    * order_id\n",
    "    * user_id\n",
    "    * order_dow\n",
    "    * department\n",
    "    * aisle\n",
    "    * product_name"
   ]
  },
  {
   "cell_type": "code",
   "execution_count": null,
   "metadata": {
    "collapsed": true
   },
   "outputs": [],
   "source": [
    "\"\"\" Entre com o Código aqui \"\"\""
   ]
  },
  {
   "cell_type": "markdown",
   "metadata": {},
   "source": [
    "#### Visualização do Dataset"
   ]
  },
  {
   "cell_type": "code",
   "execution_count": null,
   "metadata": {
    "collapsed": true
   },
   "outputs": [],
   "source": [
    "dataset.head(7)"
   ]
  },
  {
   "cell_type": "code",
   "execution_count": null,
   "metadata": {
    "collapsed": true
   },
   "outputs": [],
   "source": [
    "dataset.tail(3)"
   ]
  },
  {
   "cell_type": "markdown",
   "metadata": {},
   "source": [
    "#### Salvando o Dataset"
   ]
  },
  {
   "cell_type": "code",
   "execution_count": null,
   "metadata": {
    "collapsed": true
   },
   "outputs": [],
   "source": [
    "\"\"\" Entre com o Código aqui \"\"\""
   ]
  }
 ],
 "metadata": {
  "kernelspec": {
   "display_name": "Python 3",
   "language": "python",
   "name": "python3"
  },
  "language_info": {
   "codemirror_mode": {
    "name": "ipython",
    "version": 3
   },
   "file_extension": ".py",
   "mimetype": "text/x-python",
   "name": "python",
   "nbconvert_exporter": "python",
   "pygments_lexer": "ipython3",
   "version": "3.6.2"
  }
 },
 "nbformat": 4,
 "nbformat_minor": 2
}
