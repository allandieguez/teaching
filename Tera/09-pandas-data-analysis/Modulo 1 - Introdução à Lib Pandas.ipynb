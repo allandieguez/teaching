{
 "cells": [
  {
   "cell_type": "markdown",
   "metadata": {},
   "source": [
    "# Módulo 1: Introdução à Lib Pandas"
   ]
  },
  {
   "cell_type": "markdown",
   "metadata": {},
   "source": [
    "___"
   ]
  },
  {
   "cell_type": "markdown",
   "metadata": {},
   "source": [
    "# Tutorial"
   ]
  },
  {
   "cell_type": "markdown",
   "metadata": {},
   "source": [
    "## Imports para a Aula"
   ]
  },
  {
   "cell_type": "code",
   "execution_count": null,
   "metadata": {
    "collapsed": true
   },
   "outputs": [],
   "source": [
    "import numpy as np\n",
    "import pandas as pd"
   ]
  },
  {
   "cell_type": "markdown",
   "metadata": {},
   "source": [
    "## Construção"
   ]
  },
  {
   "cell_type": "markdown",
   "metadata": {},
   "source": [
    "### Series"
   ]
  },
  {
   "cell_type": "code",
   "execution_count": null,
   "metadata": {
    "collapsed": true
   },
   "outputs": [],
   "source": [
    "\"\"\" Construtor padrão \"\"\"\n",
    "pd.Series(\n",
    "    name=\"Compras\",\n",
    "    index=[\"Leite\", \"Ovos\", \"Carne\", \"Arroz\", \"Feijão\"],  \n",
    "    data=[2, 12, 1, 5, 2]\n",
    ")"
   ]
  },
  {
   "cell_type": "code",
   "execution_count": null,
   "metadata": {
    "collapsed": true
   },
   "outputs": [],
   "source": [
    "\"\"\" Construtor padrão: dados desconhecidos \"\"\"\n",
    "pd.Series(\n",
    "    name=\"Compras\",\n",
    "    index=[\"Leite\", \"Ovos\", \"Carne\", \"Arroz\", \"Feijão\"]\n",
    ")"
   ]
  },
  {
   "cell_type": "code",
   "execution_count": null,
   "metadata": {
    "collapsed": true
   },
   "outputs": [],
   "source": [
    "\"\"\" Construtor padrão: valor padrão \"\"\"\n",
    "pd.Series(\n",
    "    name=\"Compras\",\n",
    "    index=[\"Leite\", \"Ovos\", \"Carne\", \"Arroz\", \"Feijão\"],\n",
    "    data=\"fill here\"\n",
    ")"
   ]
  },
  {
   "cell_type": "code",
   "execution_count": null,
   "metadata": {
    "collapsed": true
   },
   "outputs": [],
   "source": [
    "\"\"\" Recebendo um Dicionário\"\"\"\n",
    "s = pd.Series({\"Leite\": 2, \"Ovos\": 12, \"Carne\": 1, \"Arroz\": 5, \"Feijão\": 2})\n",
    "s.name = \"Compras\"\n",
    "s"
   ]
  },
  {
   "cell_type": "code",
   "execution_count": null,
   "metadata": {
    "collapsed": true
   },
   "outputs": [],
   "source": [
    "\"\"\" Recebendo uma Lista\"\"\"\n",
    "s = pd.Series([2, 12, 1, 5, 2])\n",
    "s"
   ]
  },
  {
   "cell_type": "code",
   "execution_count": null,
   "metadata": {
    "collapsed": true
   },
   "outputs": [],
   "source": [
    "\"\"\" editando parâmetros\"\"\"\n",
    "s.name=\"Compras\"\n",
    "s.index=[\"Leite\", \"Ovos\", \"Carne\", \"Arroz\", \"Feijão\"]\n",
    "s"
   ]
  },
  {
   "cell_type": "code",
   "execution_count": null,
   "metadata": {
    "collapsed": true
   },
   "outputs": [],
   "source": [
    "\"\"\" Ordenação: Índices \"\"\"\n",
    "s.sort_index()"
   ]
  },
  {
   "cell_type": "code",
   "execution_count": null,
   "metadata": {
    "collapsed": true
   },
   "outputs": [],
   "source": [
    "\"\"\" Ordenação: Dados \"\"\"\n",
    "s.sort_values(ascending=False)"
   ]
  },
  {
   "cell_type": "markdown",
   "metadata": {},
   "source": [
    "### DataFrame"
   ]
  },
  {
   "cell_type": "code",
   "execution_count": null,
   "metadata": {
    "collapsed": true
   },
   "outputs": [],
   "source": [
    "\"\"\" Construtor padrão \"\"\"\n",
    "pd.DataFrame(\n",
    "    index=[\"Leite\", \"Ovos\", \"Carne\", \"Arroz\", \"Feijão\"],\n",
    "    columns=[\"quantidade\", \"unidade\"],\n",
    "    data=[\n",
    "        [ 2,  \"L\"],\n",
    "        [12, \"Ud\"], \n",
    "        [ 1, \"Kg\"],\n",
    "        [ 5, \"Kg\"], \n",
    "        [ 2, \"Kg\"]\n",
    "    ]\n",
    ")"
   ]
  },
  {
   "cell_type": "code",
   "execution_count": null,
   "metadata": {
    "collapsed": true
   },
   "outputs": [],
   "source": [
    "\"\"\" Construtor padrão: dados desconhecidos \"\"\"\n",
    "pd.DataFrame(\n",
    "    index=[\"Leite\", \"Ovos\", \"Carne\", \"Arroz\", \"Feijão\"],\n",
    "    columns=[\"quantidade\", \"unidade\"]\n",
    ")"
   ]
  },
  {
   "cell_type": "code",
   "execution_count": null,
   "metadata": {
    "collapsed": true
   },
   "outputs": [],
   "source": [
    "\"\"\" Construtor padrão: valor padrão \"\"\"\n",
    "pd.DataFrame(\n",
    "    index=[\"Leite\", \"Ovos\", \"Carne\", \"Arroz\", \"Feijão\"],\n",
    "    columns=[\"quantidade\", \"unidade\"],\n",
    "    data=\"?\"\n",
    ")"
   ]
  },
  {
   "cell_type": "code",
   "execution_count": null,
   "metadata": {
    "collapsed": true
   },
   "outputs": [],
   "source": [
    "\"\"\" Recebendo um Dicionário\"\"\"\n",
    "pd.DataFrame(\n",
    "    {\n",
    "        \"quantidade\": {\n",
    "            \"Leite\": 2, \n",
    "            \"Ovos\": 12, \n",
    "            \"Carne\": 1, \n",
    "            \"Arroz\": 5, \n",
    "            \"Feijão\": 2\n",
    "        },\n",
    "        \"unidade\": {\n",
    "            \"Leite\": \"L\", \n",
    "            \"Ovos\": \"Ud\", \n",
    "            \"Carne\": \"Kg\", \n",
    "            \"Arroz\": \"Kg\", \n",
    "            \"Feijão\": \"Kg\"\n",
    "        }\n",
    "    }\n",
    ")"
   ]
  },
  {
   "cell_type": "code",
   "execution_count": null,
   "metadata": {
    "collapsed": true
   },
   "outputs": [],
   "source": [
    "\"\"\" Recebendo um Dicionário de Series\"\"\"\n",
    "index = [\"Leite\", \"Ovos\", \"Carne\", \"Arroz\", \"Feijão\"]\n",
    "pd.DataFrame(\n",
    "    {\n",
    "        \"quantidade\": pd.Series(index=index,  data=[2, 12, 1, 5, 2]),\n",
    "        \"unidade\": pd.Series(index=index,  data=[\"L\", \"Ud\", \"Kg\", \"Kg\", \"Kg\"])\n",
    "    }\n",
    ")"
   ]
  },
  {
   "cell_type": "code",
   "execution_count": null,
   "metadata": {
    "collapsed": true
   },
   "outputs": [],
   "source": [
    "\"\"\" Recebendo um vetor de Series\"\"\"\n",
    "index = [\"Leite\", \"Ovos\", \"Carne\", \"Arroz\", \"Feijão\"]\n",
    "df = pd.DataFrame(\n",
    "    [\n",
    "        pd.Series(name=\"quantidade\", index=index,  data=[2, 12, 1, 5, 2]),\n",
    "        pd.Series(name=\"unidade\", index=index,  data=[\"L\", \"Ud\", \"Kg\", \"Kg\", \"Kg\"])\n",
    "    ]\n",
    ")\n",
    "df"
   ]
  },
  {
   "cell_type": "code",
   "execution_count": null,
   "metadata": {
    "collapsed": true
   },
   "outputs": [],
   "source": [
    "\"\"\" Transpondo para ajustar a Tabela \"\"\"\n",
    "df = df.T\n",
    "df"
   ]
  },
  {
   "cell_type": "code",
   "execution_count": null,
   "metadata": {
    "collapsed": true
   },
   "outputs": [],
   "source": [
    "\"\"\" editando parâmetros\"\"\"\n",
    "df.index = [\"Leite tipo A\", \"Ovos Orgânicos\", \"Patinho\", \"Arroz Arbóreo\", \"Feijão Preto\"]\n",
    "df.columns = [\"Quantidade\", \"Unidade\"]\n",
    "df"
   ]
  },
  {
   "cell_type": "code",
   "execution_count": null,
   "metadata": {
    "collapsed": true
   },
   "outputs": [],
   "source": [
    "\"\"\" Ordenação: Índices \"\"\"\n",
    "df.sort_index()"
   ]
  },
  {
   "cell_type": "code",
   "execution_count": null,
   "metadata": {
    "collapsed": true
   },
   "outputs": [],
   "source": [
    "\"\"\" Ordenação: Dados \"\"\"\n",
    "df.sort_values(by=\"Unidade\", ascending=False)"
   ]
  },
  {
   "cell_type": "markdown",
   "metadata": {},
   "source": [
    "##  Acessando valores"
   ]
  },
  {
   "cell_type": "markdown",
   "metadata": {},
   "source": [
    "### Definição das Variáveis"
   ]
  },
  {
   "cell_type": "code",
   "execution_count": null,
   "metadata": {
    "collapsed": true
   },
   "outputs": [],
   "source": [
    "index = pd.Index(data=[\"Leite\", \"Ovos\", \"Carne\", \"Arroz\", \"Feijão\"], name=\"Itens\")\n",
    "index"
   ]
  },
  {
   "cell_type": "code",
   "execution_count": null,
   "metadata": {
    "collapsed": true
   },
   "outputs": [],
   "source": [
    "sq = pd.Series(index=index,  data=[2, 12, 1, 5, 2]).sort_values()\n",
    "sq"
   ]
  },
  {
   "cell_type": "code",
   "execution_count": null,
   "metadata": {
    "collapsed": true
   },
   "outputs": [],
   "source": [
    "su = pd.Series(index=index,  data=[\"L\", \"Ud\", \"Kg\", \"Kg\", \"Kg\"]).sort_index()\n",
    "su"
   ]
  },
  {
   "cell_type": "code",
   "execution_count": null,
   "metadata": {
    "collapsed": true
   },
   "outputs": [],
   "source": [
    "df = pd.DataFrame({\"Quantidade\": sq, \"Unidade\": su}).sort_values(by=\"Unidade\")\n",
    "df"
   ]
  },
  {
   "cell_type": "code",
   "execution_count": null,
   "metadata": {
    "collapsed": true
   },
   "outputs": [],
   "source": [
    "df[\"Preço p/ Ud\"] = [5.00, 29.99, 6.50, 3.30, 0.50]\n",
    "df[\"Preço Total\"] = [25.00, 29.99, 13.00, 6.60, 6.00]\n",
    "df"
   ]
  },
  {
   "cell_type": "markdown",
   "metadata": {},
   "source": [
    "### Slicing"
   ]
  },
  {
   "cell_type": "markdown",
   "metadata": {},
   "source": [
    "#### Series"
   ]
  },
  {
   "cell_type": "code",
   "execution_count": null,
   "metadata": {
    "collapsed": true
   },
   "outputs": [],
   "source": [
    "sq"
   ]
  },
  {
   "cell_type": "code",
   "execution_count": null,
   "metadata": {
    "collapsed": true
   },
   "outputs": [],
   "source": [
    "sq[2]"
   ]
  },
  {
   "cell_type": "code",
   "execution_count": null,
   "metadata": {
    "collapsed": true
   },
   "outputs": [],
   "source": [
    "sq[5:2:-1]"
   ]
  },
  {
   "cell_type": "code",
   "execution_count": null,
   "metadata": {
    "collapsed": true
   },
   "outputs": [],
   "source": [
    "sq[\"Leite\"]"
   ]
  },
  {
   "cell_type": "code",
   "execution_count": null,
   "metadata": {
    "collapsed": true
   },
   "outputs": [],
   "source": [
    "sq[\"Leite\":\"Arroz\"]"
   ]
  },
  {
   "cell_type": "markdown",
   "metadata": {},
   "source": [
    "####  DataFrame"
   ]
  },
  {
   "cell_type": "code",
   "execution_count": null,
   "metadata": {
    "collapsed": true
   },
   "outputs": [],
   "source": [
    "df"
   ]
  },
  {
   "cell_type": "code",
   "execution_count": null,
   "metadata": {
    "collapsed": true
   },
   "outputs": [],
   "source": [
    "df[\"Unidade\"]"
   ]
  },
  {
   "cell_type": "code",
   "execution_count": null,
   "metadata": {
    "collapsed": true
   },
   "outputs": [],
   "source": [
    "df.Quantidade"
   ]
  },
  {
   "cell_type": "code",
   "execution_count": null,
   "metadata": {
    "collapsed": true
   },
   "outputs": [],
   "source": [
    "\"\"\" Uma Coluna do DataFrame é uma Series\"\"\"\n",
    "df[\"Preço Total\"][2]"
   ]
  },
  {
   "cell_type": "code",
   "execution_count": null,
   "metadata": {
    "collapsed": true
   },
   "outputs": [],
   "source": [
    "\"\"\" Acesso a mais de uma Coluna \"\"\"\n",
    "df[[\"Preço Total\", \"Quantidade\"]]"
   ]
  },
  {
   "cell_type": "code",
   "execution_count": null,
   "metadata": {
    "collapsed": true
   },
   "outputs": [],
   "source": [
    "\"\"\" acesso às Linhas: método 'loc' \"\"\"\n",
    "df.loc[\"Leite\"]"
   ]
  },
  {
   "cell_type": "code",
   "execution_count": null,
   "metadata": {
    "collapsed": true
   },
   "outputs": [],
   "source": [
    "\"\"\" acesso ao item: método 'loc' \"\"\"\n",
    "df.loc[\"Ovos\", \"Preço Total\"]"
   ]
  },
  {
   "cell_type": "code",
   "execution_count": null,
   "metadata": {
    "collapsed": true
   },
   "outputs": [],
   "source": [
    "\"\"\" acesso ao item: método 'iloc' \"\"\"\n",
    "df.iloc[4, 3]"
   ]
  },
  {
   "cell_type": "code",
   "execution_count": null,
   "metadata": {
    "collapsed": true
   },
   "outputs": [],
   "source": [
    "\"\"\" acesso por slice: método 'loc' \"\"\"\n",
    "df.loc[\"Leite\":, \"Preço p/ Ud\":]"
   ]
  },
  {
   "cell_type": "code",
   "execution_count": null,
   "metadata": {
    "collapsed": true
   },
   "outputs": [],
   "source": [
    "\"\"\" acesso por slice: método 'iloc' \"\"\"\n",
    "df.iloc[3:, 2:]"
   ]
  },
  {
   "cell_type": "markdown",
   "metadata": {},
   "source": [
    "##### * Atribuição de Valores em DataFrames"
   ]
  },
  {
   "cell_type": "code",
   "execution_count": null,
   "metadata": {
    "collapsed": true
   },
   "outputs": [],
   "source": [
    "\"\"\" Atribuir Valores em 'slices' levanta warnings \"\"\"\n",
    "df[\"Unidade\"][[0, 2]] = \"Pacote\"\n",
    "df"
   ]
  },
  {
   "cell_type": "code",
   "execution_count": null,
   "metadata": {
    "collapsed": true
   },
   "outputs": [],
   "source": [
    "\"\"\" Deve-se usar 'loc' ou 'iloc' \"\"\"\n",
    "df.loc[\"Carne\", \"Unidade\"] = \"Kilograma\"\n",
    "df.iloc[3, 1] = \"Litro\"\n",
    "df"
   ]
  },
  {
   "cell_type": "markdown",
   "metadata": {},
   "source": [
    "### Masks"
   ]
  },
  {
   "cell_type": "markdown",
   "metadata": {},
   "source": [
    "#### Conceito"
   ]
  },
  {
   "cell_type": "code",
   "execution_count": null,
   "metadata": {
    "collapsed": true
   },
   "outputs": [],
   "source": [
    "\"\"\" mask => array de bool \"\"\"\n",
    "sq > 2"
   ]
  },
  {
   "cell_type": "code",
   "execution_count": null,
   "metadata": {
    "collapsed": true
   },
   "outputs": [],
   "source": [
    "\"\"\" mask => array de bool \"\"\"\n",
    "df > 2"
   ]
  },
  {
   "cell_type": "markdown",
   "metadata": {},
   "source": [
    "#### Aplicação"
   ]
  },
  {
   "cell_type": "markdown",
   "metadata": {},
   "source": [
    "##### * Series"
   ]
  },
  {
   "cell_type": "code",
   "execution_count": null,
   "metadata": {
    "collapsed": true
   },
   "outputs": [],
   "source": [
    "\"\"\" atribuição de valores em uma cópia \"\"\"\n",
    "s_tmp = sq.copy()\n",
    "s_tmp"
   ]
  },
  {
   "cell_type": "code",
   "execution_count": null,
   "metadata": {
    "collapsed": true
   },
   "outputs": [],
   "source": [
    "s_tmp[s_tmp == 2]"
   ]
  },
  {
   "cell_type": "code",
   "execution_count": null,
   "metadata": {
    "collapsed": true
   },
   "outputs": [],
   "source": [
    "s_tmp[s_tmp == 2] = 3\n",
    "s_tmp"
   ]
  },
  {
   "cell_type": "markdown",
   "metadata": {},
   "source": [
    "##### * DataFame"
   ]
  },
  {
   "cell_type": "code",
   "execution_count": null,
   "metadata": {
    "collapsed": true
   },
   "outputs": [],
   "source": [
    "\"\"\" atribuição de valores em uma cópia \"\"\"\n",
    "df_tmp = df[[\"Preço p/ Ud\", \"Preço Total\"]].copy()\n",
    "df_tmp"
   ]
  },
  {
   "cell_type": "code",
   "execution_count": null,
   "metadata": {
    "collapsed": true
   },
   "outputs": [],
   "source": [
    "\"\"\" mask \"\"\"\n",
    "mask = (df_tmp > 5) & (df_tmp < 10)\n",
    "mask"
   ]
  },
  {
   "cell_type": "code",
   "execution_count": null,
   "metadata": {
    "collapsed": true
   },
   "outputs": [],
   "source": [
    "df_tmp[mask]"
   ]
  },
  {
   "cell_type": "code",
   "execution_count": null,
   "metadata": {
    "collapsed": true
   },
   "outputs": [],
   "source": [
    "tmp2 = df_tmp.copy()\n",
    "tmp2[mask] = \"?\"\n",
    "tmp2"
   ]
  },
  {
   "cell_type": "code",
   "execution_count": null,
   "metadata": {
    "collapsed": true
   },
   "outputs": [],
   "source": [
    "s_tmp[s_tmp == 2] = 3\n",
    "s_tmp"
   ]
  },
  {
   "cell_type": "markdown",
   "metadata": {},
   "source": [
    "## Operações Vetoriais"
   ]
  },
  {
   "cell_type": "markdown",
   "metadata": {},
   "source": [
    "### Definição das Variáveis"
   ]
  },
  {
   "cell_type": "code",
   "execution_count": null,
   "metadata": {
    "collapsed": true
   },
   "outputs": [],
   "source": [
    "df = pd.DataFrame(\n",
    "    index=pd.Index(data=[\"Leite\", \"Ovos\", \"Carne\", \"Arroz\", \"Feijão\"], name=\"Itens\"),\n",
    "    columns=[\"Unidade\", \"Quantidade\",  \"Preço Unitário\"],\n",
    "    data=np.array([\n",
    "        [\"Litro\", \"Dúzia\", \"Kilograma\", \"Kilograma\", \"Kilograma\"],\n",
    "        [4, 3, 1, 5, 2],\n",
    "        [3.00, 6.50, 25.90, 5.00, 3.80]\n",
    "    ]).T,\n",
    ")\n",
    "df"
   ]
  },
  {
   "cell_type": "code",
   "execution_count": null,
   "metadata": {
    "collapsed": true
   },
   "outputs": [],
   "source": [
    "\"\"\" verificando dtypes \"\"\"\n",
    "df.dtypes"
   ]
  },
  {
   "cell_type": "code",
   "execution_count": null,
   "metadata": {
    "collapsed": true
   },
   "outputs": [],
   "source": [
    "\"\"\"Conversão necessária pois o pandas interp´reta 'mixed types' como strings \"\"\"\n",
    "df[[\"Quantidade\",  \"Preço Unitário\"]] = df[[\"Quantidade\",  \"Preço Unitário\"]].astype(float)\n",
    "df"
   ]
  },
  {
   "cell_type": "code",
   "execution_count": null,
   "metadata": {
    "collapsed": true
   },
   "outputs": [],
   "source": [
    "\"\"\" verificando dtypes \"\"\"\n",
    "df.dtypes"
   ]
  },
  {
   "cell_type": "markdown",
   "metadata": {},
   "source": [
    "### Manipulações Numéricas"
   ]
  },
  {
   "cell_type": "markdown",
   "metadata": {},
   "source": [
    "##### * Incrementando o Preço Unitário"
   ]
  },
  {
   "cell_type": "code",
   "execution_count": null,
   "metadata": {
    "collapsed": true
   },
   "outputs": [],
   "source": [
    "df[\"Preço Unitário\"] += 1.\n",
    "df"
   ]
  },
  {
   "cell_type": "markdown",
   "metadata": {},
   "source": [
    "##### * Desconto de 10% no Preço Unitário"
   ]
  },
  {
   "cell_type": "code",
   "execution_count": null,
   "metadata": {
    "collapsed": true
   },
   "outputs": [],
   "source": [
    "df[\"Preço Unitário\"] *= 0.90\n",
    "df"
   ]
  },
  {
   "cell_type": "markdown",
   "metadata": {},
   "source": [
    "##### * Cálculo do Preço Total por Item"
   ]
  },
  {
   "cell_type": "code",
   "execution_count": null,
   "metadata": {
    "collapsed": true
   },
   "outputs": [],
   "source": [
    "df[\"Preço Total\"] = df[\"Preço Unitário\"] * df[\"Quantidade\"]\n",
    "df"
   ]
  },
  {
   "cell_type": "markdown",
   "metadata": {},
   "source": [
    "##### * Cálculo do Preço por Kg"
   ]
  },
  {
   "cell_type": "code",
   "execution_count": null,
   "metadata": {
    "collapsed": true
   },
   "outputs": [],
   "source": [
    "df[\"Preço Médio Por Kg\"] = np.nan\n",
    "df"
   ]
  },
  {
   "cell_type": "code",
   "execution_count": null,
   "metadata": {
    "collapsed": true
   },
   "outputs": [],
   "source": [
    "mask = df[\"Unidade\"] == \"Kilograma\"\n",
    "df[mask]"
   ]
  },
  {
   "cell_type": "code",
   "execution_count": null,
   "metadata": {
    "collapsed": true
   },
   "outputs": [],
   "source": [
    "df.loc[mask, \"Preço Médio Por Kg\"] = (df.loc[mask, \"Preço Unitário\"] / df.loc[mask, \"Quantidade\"]).sum()\n",
    "df"
   ]
  },
  {
   "cell_type": "markdown",
   "metadata": {},
   "source": [
    "##### * Preenchendo NaNs"
   ]
  },
  {
   "cell_type": "code",
   "execution_count": null,
   "metadata": {
    "collapsed": true
   },
   "outputs": [],
   "source": [
    "df.fillna(0)"
   ]
  },
  {
   "cell_type": "markdown",
   "metadata": {},
   "source": [
    "##### * Soma : apenas valores numéricos "
   ]
  },
  {
   "cell_type": "code",
   "execution_count": null,
   "metadata": {
    "collapsed": true
   },
   "outputs": [],
   "source": [
    "df.sum()"
   ]
  },
  {
   "cell_type": "markdown",
   "metadata": {},
   "source": [
    "##### * Média: apenas valores numéricos "
   ]
  },
  {
   "cell_type": "code",
   "execution_count": null,
   "metadata": {
    "collapsed": true
   },
   "outputs": [],
   "source": [
    "df.mean()"
   ]
  },
  {
   "cell_type": "markdown",
   "metadata": {},
   "source": [
    "##### * Desvio Padrão: apenas valores numéricos "
   ]
  },
  {
   "cell_type": "code",
   "execution_count": null,
   "metadata": {
    "collapsed": true
   },
   "outputs": [],
   "source": [
    "df.std()"
   ]
  },
  {
   "cell_type": "markdown",
   "metadata": {},
   "source": [
    "##### * Mediana: apenas valores numéricos "
   ]
  },
  {
   "cell_type": "code",
   "execution_count": null,
   "metadata": {
    "collapsed": true
   },
   "outputs": [],
   "source": [
    "df.median()"
   ]
  },
  {
   "cell_type": "markdown",
   "metadata": {},
   "source": [
    "##### * Moda (valores mais frequentes): todos os tipos de valores"
   ]
  },
  {
   "cell_type": "code",
   "execution_count": null,
   "metadata": {
    "collapsed": true
   },
   "outputs": [],
   "source": [
    "df.mode()"
   ]
  },
  {
   "cell_type": "markdown",
   "metadata": {},
   "source": [
    "## Análise de Dados"
   ]
  },
  {
   "cell_type": "markdown",
   "metadata": {},
   "source": [
    "### Definição das Variáveis"
   ]
  },
  {
   "cell_type": "code",
   "execution_count": null,
   "metadata": {
    "collapsed": true
   },
   "outputs": [],
   "source": [
    "cols=[\"c1\", \"c2\", \"c3\", \"c4\", \"c5\"]\n",
    "data = np.random.rand(100, 5) \n",
    "data *= np.array([ 10,  20,  30,  40,  50]) \n",
    "data += np.array([100, 200, 300, 400, 500])\n",
    "data = np.ceil(data)\n",
    "df = pd.DataFrame(columns=cols, data=data)\n",
    "df.head(10)"
   ]
  },
  {
   "cell_type": "markdown",
   "metadata": {},
   "source": [
    "### Descrição dos dados "
   ]
  },
  {
   "cell_type": "code",
   "execution_count": null,
   "metadata": {
    "collapsed": true
   },
   "outputs": [],
   "source": [
    "\"\"\" descrevendo as distribuições dos dados \"\"\"\n",
    "df.describe()"
   ]
  },
  {
   "cell_type": "code",
   "execution_count": null,
   "metadata": {
    "collapsed": true
   },
   "outputs": [],
   "source": [
    "\"\"\" mesma coisa, manipulando os percentis  \"\"\"\n",
    "df.describe(percentiles=[0.1, 0.2, 0.3, 0.4, 0.5, 0.6, 0.7, 0.8, 0.9])"
   ]
  },
  {
   "cell_type": "code",
   "execution_count": null,
   "metadata": {
    "collapsed": true
   },
   "outputs": [],
   "source": [
    "\"\"\" Verificando os valores únicos de C3 \"\"\"\n",
    "df.c3.unique()"
   ]
  },
  {
   "cell_type": "code",
   "execution_count": null,
   "metadata": {
    "collapsed": true
   },
   "outputs": [],
   "source": [
    "\"\"\" Verificando a frequencia dos valores únicos de C3 \"\"\"\n",
    "df.c3.value_counts()"
   ]
  },
  {
   "cell_type": "markdown",
   "metadata": {},
   "source": [
    "___"
   ]
  },
  {
   "cell_type": "markdown",
   "metadata": {},
   "source": [
    "# Desafio 1"
   ]
  },
  {
   "cell_type": "markdown",
   "metadata": {},
   "source": [
    "## Objetivo:\n",
    "\n",
    "#### Analisar como  _Outliers_ deformam um a distribuição normal.\n"
   ]
  },
  {
   "cell_type": "markdown",
   "metadata": {},
   "source": [
    "### Configurações"
   ]
  },
  {
   "cell_type": "code",
   "execution_count": null,
   "metadata": {
    "collapsed": true
   },
   "outputs": [],
   "source": [
    "\"\"\" Não altere esse valor, pois ele permite que toda a geração aleatória seja igual para todos \"\"\"\n",
    "np.random.seed(123456789)"
   ]
  },
  {
   "cell_type": "markdown",
   "metadata": {},
   "source": [
    "### Dataset Original\n",
    "\n",
    "O dataset original é uma **Series** com 1000 elementos cujos dados pertençam a uma **distribuição normal** de média igual a **150** e desvio padrão **10**.\n",
    "\n",
    "Construção: a função **`np.random.randn`** é usada para gerar a distribuição normal, para depois transformá-la com a `média` e o `sigma` dados."
   ]
  },
  {
   "cell_type": "code",
   "execution_count": null,
   "metadata": {
    "collapsed": true
   },
   "outputs": [],
   "source": [
    "\"\"\" Dataset Original, já criado para a solução \"\"\"\n",
    "media = 150\n",
    "sigma = 10\n",
    "serie = pd.Series(np.random.randn(1000)) * sigma + media"
   ]
  },
  {
   "cell_type": "markdown",
   "metadata": {},
   "source": [
    "### O Acumulador\n",
    "\n",
    "O acumulador é um **DataFrame** usado para acumular as transformações feitas em cima do dataset original. Cada transformação será armazenada em uma **coluna** cujo nome descreve a transformação feita sobre os dados. \n",
    "\n",
    "Insira o dataset criado na coluna de nome **original**."
   ]
  },
  {
   "cell_type": "code",
   "execution_count": null,
   "metadata": {
    "collapsed": true
   },
   "outputs": [],
   "source": [
    "accum = pd.DataFrame(\n",
    "    index=range(2600),\n",
    "    columns=[\"original\"],\n",
    "    data=serie\n",
    ")\n",
    "accum.head().append(accum.tail())"
   ]
  },
  {
   "cell_type": "markdown",
   "metadata": {},
   "source": [
    "### Inserção de dados\n",
    "\n",
    "Para cada item a seguir, crie um dataset de distribuição normal contendo **N** elementos, usando a **média** e o **sigma** também fornecidos pelo item. \n",
    "\n",
    "Em seguida, concatene os novos elementos gerados à **Series** original usando o código abaixo:\n",
    "```\n",
    "series_original = series_original.append(nova_series).reset_index(drop=True)\n",
    "```\n",
    "\n",
    "Depois disso, insira a **Series** atualizada no **acumulador** em uma coluna com o **nome de coluna** fornecido em cada item.\n"
   ]
  },
  {
   "cell_type": "markdown",
   "metadata": {},
   "source": [
    "#### [ A ]  Elementos da mesma Distribuição\n",
    "* N = 300\n",
    "* média = 150\n",
    "* sigma = 10\n",
    "* coluna = \"mesma_distribuição\""
   ]
  },
  {
   "cell_type": "code",
   "execution_count": null,
   "metadata": {
    "collapsed": true
   },
   "outputs": [],
   "source": [
    "\"\"\" Escreva a a Solução Aqui \"\"\""
   ]
  },
  {
   "cell_type": "markdown",
   "metadata": {},
   "source": [
    "#### [ B ]  Elementos de outra distribuição\n",
    "* N = 100\n",
    "* média = 400\n",
    "* sigma = 100\n",
    "* coluna = \"outliers_adicionados\""
   ]
  },
  {
   "cell_type": "code",
   "execution_count": null,
   "metadata": {
    "collapsed": true
   },
   "outputs": [],
   "source": [
    "\"\"\" Escreva a a Solução Aqui \"\"\""
   ]
  },
  {
   "cell_type": "markdown",
   "metadata": {},
   "source": [
    "#### [ C ]  Elementos Próximos à média\n",
    "* N = 1000\n",
    "* média = 150\n",
    "* sigma = 0.1\n",
    "* coluna = \"elementos_prox_a_media\""
   ]
  },
  {
   "cell_type": "code",
   "execution_count": null,
   "metadata": {
    "collapsed": true
   },
   "outputs": [],
   "source": [
    "\"\"\" Escreva a a Solução Aqui \"\"\""
   ]
  },
  {
   "cell_type": "markdown",
   "metadata": {},
   "source": [
    "### Avaliação das Séries:\n",
    "\n",
    "Avaliar o **acumulador** e verificar o que mudou na distribuição original. "
   ]
  },
  {
   "cell_type": "code",
   "execution_count": null,
   "metadata": {
    "collapsed": true
   },
   "outputs": [],
   "source": [
    "\"\"\" Escreva a a Solução Aqui \"\"\""
   ]
  },
  {
   "cell_type": "markdown",
   "metadata": {},
   "source": [
    "# Desafio 2"
   ]
  },
  {
   "cell_type": "markdown",
   "metadata": {},
   "source": [
    "## Objetivo:\n",
    "\n",
    "Implementar o **OneHotEncoding**, método muito utilizado em Machine Learning para codificar dados categóricos na forma em que algoritmos de aprendizado de máquina compreendam.\n",
    "\n",
    "Exemplo:\n",
    "\n",
    "```\n",
    "original = pd.Series([\n",
    "    \"classe_1\",\n",
    "    \"classe_1\",\n",
    "    \"classe_2\",\n",
    "    \"classe_2\",\n",
    "    \"classe_1\",\n",
    "    \"classe_2\",\n",
    "])\n",
    "\n",
    "# --- \n",
    "\n",
    "encoded = pd.DataFrame(\n",
    "    columns=[\"classe_1\", \"classe_2\"],\n",
    "    data=[\n",
    "        [1, 0],\n",
    "        [1, 0],\n",
    "        [0, 1],\n",
    "        [0, 1],\n",
    "        [1, 0],\n",
    "        [0, 1]\n",
    "    ]\n",
    "    \n",
    ")\n",
    "\n",
    "```\n"
   ]
  },
  {
   "cell_type": "markdown",
   "metadata": {},
   "source": [
    "### Série Original:\n"
   ]
  },
  {
   "cell_type": "code",
   "execution_count": null,
   "metadata": {
    "collapsed": true
   },
   "outputs": [],
   "source": [
    "classes = [\"Leite\", \"Ovos\", \"Carne\", \"Arroz\", \"Feijão\"]\n",
    "labels = pd.Series(np.random.choice(classes, 100))"
   ]
  },
  {
   "cell_type": "markdown",
   "metadata": {},
   "source": [
    "### Dataset Codificado:"
   ]
  },
  {
   "cell_type": "code",
   "execution_count": null,
   "metadata": {
    "collapsed": true
   },
   "outputs": [],
   "source": [
    "\"\"\" Escreva a a Solução Aqui \"\"\""
   ]
  }
 ],
 "metadata": {
  "kernelspec": {
   "display_name": "Python 3",
   "language": "python",
   "name": "python3"
  },
  "language_info": {
   "codemirror_mode": {
    "name": "ipython",
    "version": 3
   },
   "file_extension": ".py",
   "mimetype": "text/x-python",
   "name": "python",
   "nbconvert_exporter": "python",
   "pygments_lexer": "ipython3",
   "version": "3.6.2"
  }
 },
 "nbformat": 4,
 "nbformat_minor": 2
}
