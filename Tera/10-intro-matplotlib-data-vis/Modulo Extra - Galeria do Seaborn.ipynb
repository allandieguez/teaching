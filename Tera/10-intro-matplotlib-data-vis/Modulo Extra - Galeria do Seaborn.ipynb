{
 "cells": [
  {
   "cell_type": "markdown",
   "metadata": {
    "deletable": true,
    "editable": true
   },
   "source": [
    "# Módulo Extra: Galeria do Seaborn"
   ]
  },
  {
   "cell_type": "markdown",
   "metadata": {
    "deletable": true,
    "editable": true
   },
   "source": [
    "___"
   ]
  },
  {
   "cell_type": "markdown",
   "metadata": {
    "deletable": true,
    "editable": true
   },
   "source": [
    "# Galeria: \n",
    "\n",
    "## <a href=\"http://seaborn.pydata.org/examples/\" target=_blank> http://seaborn.pydata.org/examples/ </a>"
   ]
  },
  {
   "cell_type": "markdown",
   "metadata": {
    "deletable": true,
    "editable": true
   },
   "source": [
    "# Recomendações: "
   ]
  },
  {
   "cell_type": "markdown",
   "metadata": {},
   "source": [
    "## Distribution Plots: <a href=\"http://seaborn.pydata.org/examples/distplot_options.html\" target=_blank> http://seaborn.pydata.org/examples/distplot_options.html </a>"
   ]
  },
  {
   "cell_type": "code",
   "execution_count": null,
   "metadata": {
    "collapsed": true
   },
   "outputs": [],
   "source": [
    "\"\"\" Escreva a a Solução Aqui \"\"\"    "
   ]
  },
  {
   "cell_type": "markdown",
   "metadata": {
    "deletable": true,
    "editable": true
   },
   "source": [
    "## Violin Plots: <a href=\"http://seaborn.pydata.org/examples/grouped_violinplots.html\" target=_blank> http://seaborn.pydata.org/examples/grouped_violinplots.html </a>"
   ]
  },
  {
   "cell_type": "code",
   "execution_count": null,
   "metadata": {
    "collapsed": true,
    "deletable": true,
    "editable": true
   },
   "outputs": [],
   "source": [
    "\"\"\" Escreva a a Solução Aqui \"\"\"    "
   ]
  },
  {
   "cell_type": "markdown",
   "metadata": {
    "deletable": true,
    "editable": true
   },
   "source": [
    "## Box Plots: <a href=\"http://seaborn.pydata.org/examples/grouped_boxplot.html\" target=_blank> http://seaborn.pydata.org/examples/grouped_boxplot.html </a>"
   ]
  },
  {
   "cell_type": "code",
   "execution_count": null,
   "metadata": {
    "collapsed": true,
    "deletable": true,
    "editable": true
   },
   "outputs": [],
   "source": [
    "\"\"\" Escreva a a Solução Aqui \"\"\"    "
   ]
  },
  {
   "cell_type": "markdown",
   "metadata": {
    "deletable": true,
    "editable": true
   },
   "source": [
    "## Paired Density and Scatterplot Matrix: <a href=\"http://seaborn.pydata.org/examples/pair_grid_with_kde.html?highlight=scatterplot%20matrix\" target=_blank> http://seaborn.pydata.org/examples/pair_grid_with_kde.html?highlight=scatterplot%20matrix </a>"
   ]
  },
  {
   "cell_type": "code",
   "execution_count": null,
   "metadata": {
    "collapsed": true,
    "deletable": true,
    "editable": true
   },
   "outputs": [],
   "source": [
    "\"\"\" Escreva a a Solução Aqui \"\"\"    "
   ]
  },
  {
   "cell_type": "markdown",
   "metadata": {
    "deletable": true,
    "editable": true
   },
   "source": [
    "## Facetting histograms by subsets of data: <a href=\"http://seaborn.pydata.org/examples/faceted_histogram.html\" target=_blank> http://seaborn.pydata.org/examples/faceted_histogram.html </a>"
   ]
  },
  {
   "cell_type": "code",
   "execution_count": null,
   "metadata": {
    "collapsed": true,
    "deletable": true,
    "editable": true
   },
   "outputs": [],
   "source": [
    "\"\"\" Escreva a a Solução Aqui \"\"\"    "
   ]
  },
  {
   "cell_type": "markdown",
   "metadata": {
    "deletable": true,
    "editable": true
   },
   "source": [
    "## Horizontal boxplot with observations: <a href=\"https://seaborn.pydata.org/examples/horizontal_boxplot.html\" target=_blank> https://seaborn.pydata.org/examples/horizontal_boxplot.html </a>"
   ]
  },
  {
   "cell_type": "code",
   "execution_count": null,
   "metadata": {
    "collapsed": true,
    "deletable": true,
    "editable": true
   },
   "outputs": [],
   "source": [
    "\"\"\" Escreva a a Solução Aqui \"\"\"    "
   ]
  }
 ],
 "metadata": {
  "kernelspec": {
   "display_name": "Python 3",
   "language": "python",
   "name": "python3"
  },
  "language_info": {
   "codemirror_mode": {
    "name": "ipython",
    "version": 3
   },
   "file_extension": ".py",
   "mimetype": "text/x-python",
   "name": "python",
   "nbconvert_exporter": "python",
   "pygments_lexer": "ipython3",
   "version": "3.5.2"
  }
 },
 "nbformat": 4,
 "nbformat_minor": 2
}
